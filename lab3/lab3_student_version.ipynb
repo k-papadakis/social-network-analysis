{
 "cells": [
  {
   "cell_type": "markdown",
   "id": "1f35580e",
   "metadata": {},
   "source": [
    "<html><font size=6><B>3η εργαστηριακή άσκηση</B><BR>\n",
    "    <BR><B>Link prediction - Πρόβλεψη συνδέσμων</B></BR>\n",
    "    </font></html>"
   ]
  },
  {
   "cell_type": "markdown",
   "id": "b30af479",
   "metadata": {},
   "source": [
    "<html><font size=4><B>1. Κατασκευή γράφου και προεργασία για την πρόβλεψη συνδέσμων</B></font>\n",
    "    <li><B>1(i).</B> Χρησιμοποιήστε το dataset <a href=\"http://konect.cc/networks/dbpedia-similar/\"> Similarities (DBpedia)</a>, για να κατασκευάσετε τον μη κατευθυνόμενο (undirected) γράφο $G$ <a href=\"https://dl.acm.org/doi/10.1145/2487788.2488173\">[1]</a>,<a href=\"https://link.springer.com/chapter/10.1007/978-3-540-76298-0_52\">[2]</a>. Οι κόμβοι του γράφου αναπαριστούν σελίδες της Wikipedia και οι ακμές σχέση ομοιότητας μεταξύ τους. Στην σελίδα <a href=\"http://konect.cc/networks/dbpedia-similar/\"> KONECT (DBpedia)</a> μπορείτε να βρείτε πληροφορίες για τις ιδιότητες του γράφου.</a><BR>\n",
    "        <B><U>Υπόδειξη:</U></B> Μπορείτε να ελέγξετε προγραμματιστικά αν το dataset περιέχει διπλότυπα των ακμών με την ίδια ή αντίστροφη σειρά (π.χ. ακμές (a,b) και (b,a)), και να λάβετε υπ' όψιν σας αυτήν σας την παρατήρηση, όπου τυχόν χρειαστεί, στην ερώτηση 2.<BR></html>"
   ]
  },
  {
   "cell_type": "markdown",
   "id": "4bd79bac",
   "metadata": {},
   "source": [
    " <li><B>1(ii).</B> Εμφανίστε τον αριθμό των κόμβων, τον αριθμό των ακμών, τον μέσο βαθμό των κόμβων και τον αριθμό των συνεκτικών συνιστωσών (connected components) για τον γράφο $G$.</li><BR>"
   ]
  },
  {
   "cell_type": "code",
   "execution_count": 1,
   "id": "e30fe3e9",
   "metadata": {},
   "outputs": [
    {
     "name": "stdout",
     "output_type": "stream",
     "text": [
      "Graph with 430 nodes and 565 edges\n"
     ]
    }
   ],
   "source": [
    "import numpy as np\n",
    "import pandas as pd\n",
    "import networkx as nx\n",
    "\n",
    "G: nx.Graph = nx.read_edgelist('dbpedia-similar/out.dbpedia-similar', comments='%', )\n",
    "print(G)"
   ]
  },
  {
   "cell_type": "code",
   "execution_count": 2,
   "id": "a11f7de4",
   "metadata": {},
   "outputs": [],
   "source": [
    "G2: nx.Graph = nx.read_edgelist('dbpedia-similar/out.dbpedia-similar', comments='%')"
   ]
  },
  {
   "cell_type": "code",
   "execution_count": 3,
   "id": "65397ec2",
   "metadata": {},
   "outputs": [
    {
     "data": {
      "text/plain": [
       "False"
      ]
     },
     "execution_count": 3,
     "metadata": {},
     "output_type": "execute_result"
    }
   ],
   "source": [
    "G.is_directed()"
   ]
  },
  {
   "cell_type": "code",
   "execution_count": 4,
   "id": "e64533d3",
   "metadata": {},
   "outputs": [
    {
     "data": {
      "text/plain": [
       "{('420', '420')}"
      ]
     },
     "execution_count": 4,
     "metadata": {},
     "output_type": "execute_result"
    }
   ],
   "source": [
    "self_loops = set(nx.selfloop_edges(G))\n",
    "self_loops"
   ]
  },
  {
   "cell_type": "code",
   "execution_count": 5,
   "id": "81440740",
   "metadata": {},
   "outputs": [],
   "source": [
    "G.remove_edges_from(self_loops)"
   ]
  },
  {
   "cell_type": "code",
   "execution_count": 6,
   "id": "9277a4e2",
   "metadata": {},
   "outputs": [],
   "source": [
    "initial_node_count = G.number_of_nodes()\n",
    "initial_connected_components = nx.number_connected_components(G)"
   ]
  },
  {
   "cell_type": "markdown",
   "id": "bf03f6b9",
   "metadata": {},
   "source": [
    "<li><B>1(iii). </B>Υπολογίστε το σύνολο των ασύνδετων ζευγών κόμβων (unconnected pairs) στον γράφο χρησιμοποιώντας τον πίνακα γειτνίασης (adjacency matrix). Δώστε επίσης τον αριθμό τους. Λάβετε υπ' όψιν σας ότι ο γράφος είναι μη κατευθυνόμενος και δεν χρειάζεται να διατρέξετε ολόκληρο τον πίνακα γειτνίασης.</li><BR>"
   ]
  },
  {
   "cell_type": "code",
   "execution_count": 7,
   "id": "70c48ca5",
   "metadata": {},
   "outputs": [
    {
     "name": "stdout",
     "output_type": "stream",
     "text": [
      "Number of unconnected pairs: 91671\n"
     ]
    }
   ],
   "source": [
    "adj = nx.to_scipy_sparse_array(G)\n",
    "triu_indices = np.triu_indices_from(adj, k=1)\n",
    "non_zero_triu_indices_mask = adj[triu_indices] == 0\n",
    "non_zero_triu_indices = triu_indices[0][non_zero_triu_indices_mask], triu_indices[1][non_zero_triu_indices_mask]\n",
    "nodes = np.array(list(G.nodes()))\n",
    "unconnected_pairs = list(zip(nodes[non_zero_triu_indices[0]], nodes[non_zero_triu_indices[1]]))\n",
    "\n",
    "\n",
    "print(f'Number of unconnected pairs: {len(unconnected_pairs)}')"
   ]
  },
  {
   "cell_type": "markdown",
   "id": "154c2a8d",
   "metadata": {},
   "source": [
    "<li><B>1(iv).</B> Υπολογίστε το σύνολο των ακμών (removable edges) που μπορούν να αφαιρεθούν από τον γράφο χωρίς να υπάρχει κατάτμηση (splitting) του γράφου (δηλ. ο αριθμός των συνεκτικών συνιστωσών θα πρέπει να παραμένει αμετάβλητος). Υπόδειξη: Ελέγχετε επίσης ότι με αφαίρεση ακμής δεν μειώνεται ο αριθμός των κόμβων (εφόσον δεν υπάρχει ξεχωριστό αρχείο μόνο με κόμβους στο dataset). Δώστε επίσης τον αριθμό των ακμών (removable edges) που μπορούν να αφαιρεθούν υπό αυτές τις προϋποθέσεις.</li><BR>"
   ]
  },
  {
   "cell_type": "code",
   "execution_count": 8,
   "id": "8a6e2bc8",
   "metadata": {},
   "outputs": [
    {
     "data": {
      "text/plain": [
       "229"
      ]
     },
     "execution_count": 8,
     "metadata": {},
     "output_type": "execute_result"
    }
   ],
   "source": [
    "removable_edges = []\n",
    "G_reduced = G.copy()\n",
    "\n",
    "for u, v in G.edges():\n",
    "    G_reduced.remove_edge(u, v)\n",
    "    \n",
    "    if (\n",
    "        nx.number_connected_components(G_reduced) == initial_connected_components\n",
    "        and nx.number_of_nodes(G_reduced) == initial_node_count\n",
    "    ):\n",
    "        removable_edges.append((u, v))\n",
    "    else:\n",
    "        G_reduced.add_edge(u, v)\n",
    "\n",
    "len(removable_edges)"
   ]
  },
  {
   "cell_type": "markdown",
   "id": "eb03d745",
   "metadata": {},
   "source": [
    "<li><B>1(vα).</B> Κατασκευάστε dataframe που συνενώνει τις απαντήσεις των ερωτημάτων 1(iii) και 1(iv) (unconnected+removables). Χρησιμοποιήστε την μεταβλητή $link$ που θα παίρνει τιμή 1 ή 0 ανάλογα με την ύπαρξη συνδέσμου ή μη. To dataframe αυτό συγκεντρώνει τα θετικά και αρνητικά δείγματα για την πρόβλεψη των μελλοντικών συνδέσεων (link: target variable). <BR>\n",
    "    <li><B>1(vβ).</B> Κατασκευάστε τον γράφο $G'$ που προκύπτει από την αφαίρεση από τον γράφο $G$ των ακμών του ερωτήματος 1(iv). <BR>\n",
    "    <li><B>1(vγ).</B> Εμφανίστε τον αριθμό των κόμβων, τον αριθμό των ακμών, τον μέσο βαθμό των κόμβων και τον αριθμό των συνεκτικών συνιστωσών (connected components) για τον γράφο $G'$.</li><BR>"
   ]
  },
  {
   "cell_type": "code",
   "execution_count": 9,
   "id": "c6094c3c",
   "metadata": {},
   "outputs": [],
   "source": [
    "df = pd.DataFrame(\n",
    "    {\n",
    "        'pair': unconnected_pairs + removable_edges,\n",
    "        'is_edge': [0] * len(unconnected_pairs) + [1] * len(removable_edges)\n",
    "    }\n",
    ")"
   ]
  },
  {
   "cell_type": "code",
   "execution_count": 11,
   "id": "7e6ed83b",
   "metadata": {},
   "outputs": [
    {
     "name": "stdout",
     "output_type": "stream",
     "text": [
      "Number of nodes: 430\n",
      "Number of edges: 564\n",
      "Average node degree: 2.6232558139534885\n",
      "Number of connected components: 95\n",
      "\n",
      "Number of nodes: 430\n",
      "Number of edges: 335\n",
      "Average node degree: 1.558139534883721\n",
      "Number of connected components: 95\n"
     ]
    }
   ],
   "source": [
    "def print_graph_summary(G: nx.Graph):\n",
    "    print(f'Number of nodes: {G.number_of_nodes()}')\n",
    "    print(f'Number of edges: {G.number_of_edges()}')\n",
    "    print(f'Average node degree: {np.mean([degree for _, degree in G.degree()])}')\n",
    "    print(f'Number of connected components: {nx.number_connected_components(G)}')\n",
    "    \n",
    "\n",
    "print('Original Graph')\n",
    "print_graph_summary(G)\n",
    "print()\n",
    "print('Print Reduced Graph')\n",
    "print_graph_summary(G_reduced)"
   ]
  },
  {
   "cell_type": "markdown",
   "id": "184eae57",
   "metadata": {},
   "source": [
    "<html><font size=4><B>2. Εισαγωγή σε similarity-based μετρικές για Link prediction</B></font><BR><BR>\n",
    "     <li> Η μετρική <B>Jaccard Coefficient (JC)</B> των κόμβων ${u}$ και ${v}$ ορίζεται ως $\\frac{|\\Gamma(u) \\cap \\Gamma(v)|}{|\\Gamma(u) \\cup \\Gamma(v)|}$, όπου ${\\Gamma(u)}$ είναι το σύνολο των γειτονικών κόμβων του κόμβου ${u}$.  <B></B>\n",
    "        <li> Η μετρική <B>Preferential Αttachment (PA)</B> των κόμβων $u$ και $v$ ορίζεται ως $|\\Gamma(u)| |\\Gamma(v)|$, όπου $\\Gamma(u)$ είναι το σύνολο των γειτονικών κόμβων του $u$.</li>\n",
    "        <li> Η μετρική <B>Resource Allocation (RA)</B> των κόμβων $u$ και $v$ ορίζεται ως $\\sum_{w \\in \\Gamma(u) \\cap \\Gamma(v)} \\frac{1}{|\\Gamma(w)|}$, όπου $\\Gamma(u)$ είναι το σύνολο των γειτονικών κόμβων του $u$.</li><BR><BR>\n",
    "    <li><B>2(i).</B> Για τον γράφο $G'$, που κατασκευάσατε στο ερώτημα 1(vβ), υπολογίστε την μετρική <B>Jaccard Coefficient (JC)</B>.  <u><a href=\"https://networkx.org/documentation/stable/reference/algorithms/link_prediction.html?highlight=link%20prediction\">Χρησιμοποιήστε την υλοποιημένη συνάρτηση του λογισμικού NetworkX.<a></u> <BR><BR>\n",
    "    <li><B>2(ii). </B>Δώστε τις $k$ ακμές με την υψηλότερη τιμή μετρικής $JC$, όπου $k$ ο $Α.Μ.$ σας $mod$ $10$. Για $Α.Μ.$ λήγοντα σε $0$ δώστε τις $10$ ακμές με την υψηλότερη τιμή μετρικής.\n",
    "        (Για την σύγκριση μεταξύ διαφορετικών μετρικών προτιμάται η εύρεση των $k$ επικρατέστερων συνδέσμων, αφού οι μετρικές επιστρέφουν διαφορετικό εύρος τιμών.)</li><BR>\n",
    "    <li><B>2(iii). </B>Προσδιορίστε για την μέτρηση της απόδοσης της μετρικής $JC$ τα μεγέθη $Precision$, $Recall$ και $Accuracy$ και αναπαραστήστε τα γραφικά για τιμές κατωφλίου: $0.1$, $0.15$, $0.25$, $0.5$, $1.0$.  <BR><BR>\n",
    "    $Precision=\\frac{TP}{TP+FP}$, όπου $TP$: αληθώς θετικά αποτελέσματα, $FP$: ψευδώς θετικά αποτελέσματα <BR>\n",
    "    $Recall=\\frac{TP}{TP+FN}$, όπου $TP$: αληθώς θετικά αποτελέσματα, $FN$: ψευδώς αρνητικά αποτελέσματα</li> \n",
    "    $Accuracy=\\frac{TP+TN}{TP+FN+TN+FP}$, όπου $TP$: αληθώς θετικά αποτελέσματα, $TN$: αληθώς αρνητικά αποτελέσματα, $FN$: ψευδώς αρνητικά αποτελέσματα, $FP$: ψευδώς θετικά αποτελέσματα</li><BR><BR>\n",
    "        <B><U>Υπόδειξη:</U></B>\n",
    "        Θετικό θεωρήστε ένα αποτέλεσμα, αν η μετρική $JC$ υπερβαίνει μια τιμή κατωφλίου (>=). Αρνητικό θεωρήστε το στην αντίθετη περίπτωση.\n",
    "        <li>Αληθώς θετικά είναι τα αποτελέσματα που βγήκαν θετικά (η τιμή της $JC$ υπερβαίνει την τιμή κατωφλίου) και πράγματι θα υπάρξουν οι συνδέσεις που περιγράφουν (ερ. 1(iv)).</li>\n",
    "        <li>Αληθώς αρνητικά είναι τα αποτελέσματα που βγήκαν αρνητικά και πράγματι δεν θα υπάρξουν οι συνδέσεις που περιγράφουν (ερ. 1(iii)).</li>\n",
    "        <li>Ψευδώς θετικά είναι τα αποτελέσματα που βγήκαν θετικά, ενώ δεν θα υπάρξουν οι συνδέσεις που περιγράφουν.</li>\n",
    "        <li>Ψευδώς αρνητικά είναι τα αποτελέσματα που βγήκαν αρνητικά, ενώ θα υπάρξουν οι συνδέσεις που περιγράφουν.</li>\n",
    "        <li>Το άθροισμα $TN+FP$ πρέπει κάθε φορά να σας δίνει όλες τις ασύνδετες ακμές του γράφου $G$.</li>   \n",
    "<li>Από το ερώτημα 1(iii) οι ακμές που υπολογίσατε είναι αυτές για τις οποίες δεν θα υπάρξουν συνδέσεις.</li> <li>Από το ερώτημα 1(iv) οι ακμές που υπολογίσατε είναι αυτές για τις οποίες θα υπάρξουν συνδέσεις.</li><BR></html>"
   ]
  },
  {
   "cell_type": "code",
   "execution_count": null,
   "id": "d8b0d5fd",
   "metadata": {},
   "outputs": [],
   "source": [
    "#def JCfunction(threshold_jc):   #uncomment and complete\n",
    "#return recall_jc, precision_jc, accuracy_jc; #uncomment and complete\n",
    "\n",
    "# k = Α.Μ. mod 10 "
   ]
  },
  {
   "cell_type": "markdown",
   "id": "d432396f",
   "metadata": {},
   "source": [
    "<html><font size=4><B>3. Πρόβλεψη συνδέσμων βάσει similarity-based μετρικών</B></font>    \n",
    "        <li><B>3(i).</B> Προτείνετε μια τουλάχιστον μέθοδο, για να εξερευνήσουμε και να εκφράσουμε μέσα από τα πακέτα NumPy ή SciPy ή Pandas την συσχέτιση (correlation) μεταξύ των τιμών των μετρικών <B>Jaccard Coefficient</B>, <B>Preferential Attachment</B>, <B>Resource Allocation</B> για τον μειωμένο γράφο $G'$. Σημ.: Δεν χρειάζεται κάποια υλοποίηση, μόνο αναφορά της μεθόδου συσχέτισης και επεξήγηση της επιλογής σας.\n",
    "     <li><B>3(ii).</B> Εργαστείτε πάνω σε <B><U>αντίγραφο</U></B> του dataframe που κατασκευάσατε στο ερώτημα 1(vα) (unconnected+removables). Δημιουργήστε στήλη (column) με τις ακμές του γράφου και θέστε την ως index του dataframe. Στο dataframe θα προσθέσετε ως στήλες τις τιμές των μετρικών (<B>Jaccard Coefficient</B>, <B>Preferential Attachment</B>, <B>Resource Allocation</B>) για τον μειωμένο γράφο $G'$. Οι τιμές των μετρικών μπορούν να υπολογιστούν με τις συναρτήσεις του πακέτου NetworkX.</li>   </font></html>\n",
    "    \n",
    "    |       | link  |Jacc.Coeff.|Pr.Attachment| Resource Allocation|\n",
    "    |-------|-------|-----------|-------------|--------------------|\n",
    "    |(1, 6) |  0    |  0.333333 |     32      |    0.700000        |\n",
    "    |(1, 46)|  0    |  0.200000 |      8      |    0.166667        |"
   ]
  },
  {
   "cell_type": "code",
   "execution_count": null,
   "id": "7c40c8d6",
   "metadata": {},
   "outputs": [],
   "source": [
    "#replicate of the dataframe \"unconnected+removables\"---dataframe will be used again in (4)"
   ]
  },
  {
   "cell_type": "code",
   "execution_count": null,
   "id": "8c65a3e6",
   "metadata": {},
   "outputs": [],
   "source": [
    "#dataframe for similarity-based measurement values\n",
    "#Jaccard Coefficient\n",
    "\n",
    "#Preferential Attachment\n",
    "\n",
    "#Resource Allocation"
   ]
  },
  {
   "cell_type": "markdown",
   "id": "76f9318d",
   "metadata": {},
   "source": [
    "<li><B>3(iiiα).</B> Χρησιμοποιήστε τον Random Forest Classifier και το αντίγραφο dataframe που κατασκευάσατε στο ερώτημα 3(ii), για να προβλέψετε συνδέσεις. Συμπληρώστε στον κώδικα: τα features ($X$), την target variable ($y$) και τα ορίσματα της συνάρτησης $fit$ για το training του μοντέλου.</li>\n",
    "<li><B>3(iiiβ).</B> Δώστε τις ($A.M$ $mod$ $10$) πρώτες προβλέψεις και την ακρίβεια ($accuracy$) του μοντέλου. </li>\n",
    "<li><B>3(iiiγ).</B>Υπολογίστε την πιθανότητα να συνδεθούν οι κόμβοι ($1$,$47$) βάσει του μοντέλου σας. </li>  "
   ]
  },
  {
   "cell_type": "code",
   "execution_count": null,
   "id": "df4a65f5",
   "metadata": {},
   "outputs": [],
   "source": [
    "#uncomment whole cell\n",
    "#from sklearn.model_selection import train_test_split\n",
    "#from sklearn.ensemble import RandomForestClassifier\n",
    "#from sklearn.metrics import accuracy_score\n",
    "#from sklearn.model_selection import GridSearchCV\n",
    " \n",
    "#X =             #features, uncomment and complete\n",
    "#y = ...['link'] #target, uncomment and complete\n",
    "\n",
    "#X_train, X_test, y_train, y_test = train_test_split(, , random_state = 0) #uncomment and complete"
   ]
  },
  {
   "cell_type": "code",
   "execution_count": null,
   "id": "26affc3a",
   "metadata": {},
   "outputs": [],
   "source": [
    "#uncomment whole cell\n",
    "#classifier = RandomForestClassifier()   \n",
    "\n",
    "#from sklearn.preprocessing import MinMaxScaler \n",
    "#mm_scaler = MinMaxScaler() \n",
    "#X_train_scaled = mm_scaler.fit_transform(X_train)\n",
    "#X_test_scaled = mm_scaler.transform(X_test)\n",
    "\n",
    "#parameters = {'n_estimators' : [10,50,100], 'max_depth' : [5,10,15]} \n",
    "#model = GridSearchCV(classifier, param_grid = parameters) "
   ]
  },
  {
   "cell_type": "code",
   "execution_count": null,
   "id": "431e2d35",
   "metadata": {},
   "outputs": [],
   "source": [
    "#model.fit(X_train_scaled, )#train the model, uncomment and complete"
   ]
  },
  {
   "cell_type": "code",
   "execution_count": null,
   "id": "1b075584",
   "metadata": {},
   "outputs": [],
   "source": [
    "#predictions = model.predict(X_test_scaled)       #uncomment\n",
    "#predictions[ ] #get (A.M. last digit) first predictions, uncomment and complete"
   ]
  },
  {
   "cell_type": "code",
   "execution_count": null,
   "id": "b042eca7",
   "metadata": {},
   "outputs": [],
   "source": [
    "#predict_proba = model.predict_proba(...) #uncomment and complete"
   ]
  },
  {
   "cell_type": "markdown",
   "id": "f4c43988",
   "metadata": {},
   "source": [
    "<html><font size=4><B>4. Πρόβλεψη συνδέσμων με embedding βασισμένο σε τυχαίους περιπάτους (Random Walks) </B></font><BR><BR>\n",
    "    <li><B>4(i).</B> Εξάγετε τα χαρακτηριστικά (features) του γράφου $G'$, που προέκυψε από την αφαίρεση των ακμών. Για τον σκοπό αυτό χρησιμοποιήστε τον αλγόριθμο <B>Node2vec</B> <a href=\"https://cs.stanford.edu/~jure/pubs/node2vec-kdd16.pdf\">[3]</a>. Ο αλγόριθμος αντιστοιχίζει τους κόμβους του γράφου μέσω τυχαίων περιπάτων (biased 2nd order random walks) σε ένα χώρο μικρού αριθμού διαστάσεων (low dimensional space) διατηρώντας την μεταξύ τους γειτνίαση.\n",
    "        <BR>Για την επιλογή των παραμέτρων: \n",
    "            <li>p - παράμετρος τυχαίων περιπάτων p που καθορίζει την πιθανότητα “1/p” επιστροφής στον κόμβο προέλευσης (source node), </li>\n",
    "                <li>q - παράμετρος τυχαίων περιπάτων q που καθορίζει την πιθανότητα  “1/q” μετακίνησης σε κόμβο μακριά από τον κόμβο προέλευσης (source node), </li>\n",
    "                 <li>dimensions - πλήθος διαστάσεων των Node2Vec embeddings, </li>\n",
    "                     <li>num_walks - αριθμός περιπάτων από κάθε κόμβο, </li>\n",
    "                         <li>walk_length - μήκος τυχαίου περιπάτου, </li>\n",
    "                             <li>window_size - μέγεθος παραθύρου context για τον αλγόριθμο Word2Vec, </li><li>num_iter - αριθμός SGD επαναλήψεων (epochs), </li>\n",
    "            <li>workers - αριθμός workers για τον Word2Vec,</li>\n",
    "            χρησιμοποιήστε τις τιμές:   </html>\n",
    "   \n",
    "                   "
   ]
  },
  {
   "cell_type": "markdown",
   "id": "fdbc5274",
   "metadata": {},
   "source": [
    " |   p   |   q   | dimensions|  num_walks  |walk_length |window_size|        workers            |\n",
    " |-------|-------|-----------|-------------|------------|-----------|---------------------------|\n",
    " |  1.0  |  1.0  |  128      |     10      |    80      |     10    |multiprocessing.cpu_count()|"
   ]
  },
  {
   "cell_type": "code",
   "execution_count": null,
   "id": "aa8e668d",
   "metadata": {},
   "outputs": [],
   "source": [
    "#install node2vec with conda / pip\n",
    "#from node2vec import Node2Vec   #uncomment\n",
    "#import multiprocessing          #uncomment\n",
    "\n",
    "#generate walks\n",
    "#node2vec_walker = Node2Vec(, , , , , , ) #uncomment and complete\n",
    "\n",
    "#train node2vec model\n",
    "#n2v_model = node2vec_walker.fit(window= , min_count=1) #uncomment and complete"
   ]
  },
  {
   "cell_type": "markdown",
   "id": "294f0aab",
   "metadata": {},
   "source": [
    "<html><font>\n",
    "    <li><B>4(ii).</B> Εφαρμόστε τον αλγόριθμο Random Forest Classifier, για να προβλέψετε τις συνδέσεις.</li><BR>\n",
    "    <li><B>4(iii).</B> Υπολογίστε την ακρίβεια ($accuracy$) του μοντέλου. </li><BR></font></html>"
   ]
  },
  {
   "cell_type": "code",
   "execution_count": null,
   "id": "6269b89a",
   "metadata": {},
   "outputs": [],
   "source": [
    "#apply trained Node2Vec model on each node pair of the dataframe \"unconnected+removables\"\n",
    "#uncomment:\n",
    "#x = [(n2v_model.wv[str(i)]+n2v_model.wv[str(j)]) for i,j in zip(df_with_target_var['node_1'], df_with_target_var['node_2'])]"
   ]
  },
  {
   "cell_type": "code",
   "execution_count": null,
   "id": "b74e7aa7",
   "metadata": {},
   "outputs": [],
   "source": [
    "#X_train, X_test, y_train, y_test = train_test_split(, , random_state = 0)  #uncomment and complete"
   ]
  },
  {
   "cell_type": "code",
   "execution_count": null,
   "id": "e75cfde7",
   "metadata": {},
   "outputs": [],
   "source": [
    "#uncomment whole cell\n",
    "#from sklearn.ensemble import RandomForestClassifier\n",
    "#from sklearn.metrics import accuracy_score\n",
    "\n",
    "#classifier = RandomForestClassifier(max_depth=2, random_state=0) \n",
    "#classifier.fit()   #uncomment and complete"
   ]
  },
  {
   "cell_type": "markdown",
   "id": "a0c0b3bb",
   "metadata": {},
   "source": [
    "<html><font size=4> <B><U>Ερώτηση bonus (+10/100)</U><B>: </font>Για τους binary operators για learning των edge features με τον αλγόριθμο Node2Vec που αναφέρονται στο <a href=\"https://cs.stanford.edu/~jure/pubs/node2vec-kdd16.pdf\">[3]</a> ((α) Average, (β) Hadamard, (γ) Weighted-L1 και (δ) Weighted-L2) τροποποιήστε τoν κώδικά σας και σημειώστε τις παρατηρήσεις σας ως προς την απόδοση του αλγορίθμου.</font></html>"
   ]
  },
  {
   "cell_type": "markdown",
   "id": "8da3a402",
   "metadata": {},
   "source": [
    "<html><font size=4><B><U>Βιβλιογραφία:</U></B><BR></font>\n",
    "<a href=\"https://dl.acm.org/doi/10.1145/2487788.2488173\">[1]\tJérôme Kunegis. KONECT – The Koblenz Network Collection. In Proc. Int. Conf. on World Wide Web Companion, pages 1343–1350, 2013.</a><BR>\n",
    "<a href=\"https://link.springer.com/chapter/10.1007/978-3-540-76298-0_52\">[2]\tSören Auer, Christian Bizer, Georgi Kobilarov, Jens Lehmann, Richard Cyganiak, and Zachary Ives. DBpedia: A nucleus for a web of open data. In Proc. Int. Semant. Web Conf., pages 722–735, 2008.<BR>\n",
    "<a href=\"https://cs.stanford.edu/~jure/pubs/node2vec-kdd16.pdf\">[3] A. Grover, J. Leskovec, Node2vec: Scalable Feature Learning for Networks. ACM KDD, 2016.</a><BR>\n",
    " <a href=\"https://proceedings.neurips.cc/paper/2013/file/9aa42b31882ec039965f3c4923ce901b-Paper.pdf\">[4] T.Mikolov, I.Sutskever, K.Chen, G.S.Corrado and J.Dean, Distributed representations of words and phrases and their compositionality. In NIPS, 2013.</a><BR></font></html>"
   ]
  },
  {
   "cell_type": "code",
   "execution_count": null,
   "id": "89f16b76",
   "metadata": {},
   "outputs": [],
   "source": []
  }
 ],
 "metadata": {
  "kernelspec": {
   "display_name": "sna",
   "language": "python",
   "name": "python3"
  },
  "language_info": {
   "codemirror_mode": {
    "name": "ipython",
    "version": 3
   },
   "file_extension": ".py",
   "mimetype": "text/x-python",
   "name": "python",
   "nbconvert_exporter": "python",
   "pygments_lexer": "ipython3",
   "version": "3.10.6"
  },
  "vscode": {
   "interpreter": {
    "hash": "f730c7bdb01663df1d3d910042c98e2163f0879065fdf957bd1f4a813b03f728"
   }
  }
 },
 "nbformat": 4,
 "nbformat_minor": 5
}

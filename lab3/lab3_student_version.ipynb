{
 "cells": [
  {
   "cell_type": "markdown",
   "id": "1f35580e",
   "metadata": {
    "pycharm": {
     "name": "#%% md\n"
    }
   },
   "source": [
    "<html><font size=6><B>3η εργαστηριακή άσκηση</B><BR>\n",
    "    <BR><B>Link prediction - Πρόβλεψη συνδέσμων</B></BR>\n",
    "    </font></html>"
   ]
  },
  {
   "attachments": {},
   "cell_type": "markdown",
   "id": "957c83bf",
   "metadata": {},
   "source": [
    "## 1"
   ]
  },
  {
   "cell_type": "markdown",
   "id": "b30af479",
   "metadata": {
    "pycharm": {
     "name": "#%% md\n"
    }
   },
   "source": [
    "<html><font size=4><B>1. Κατασκευή γράφου και προεργασία για την πρόβλεψη συνδέσμων</B></font>\n",
    "    <li><B>1(i).</B> Χρησιμοποιήστε το dataset <a href=\"http://konect.cc/networks/dbpedia-similar/\"> Similarities (DBpedia)</a>, για να κατασκευάσετε τον μη κατευθυνόμενο (undirected) γράφο $G$ <a href=\"https://dl.acm.org/doi/10.1145/2487788.2488173\">[1]</a>,<a href=\"https://link.springer.com/chapter/10.1007/978-3-540-76298-0_52\">[2]</a>. Οι κόμβοι του γράφου αναπαριστούν σελίδες της Wikipedia και οι ακμές σχέση ομοιότητας μεταξύ τους. Στην σελίδα <a href=\"http://konect.cc/networks/dbpedia-similar/\"> KONECT (DBpedia)</a> μπορείτε να βρείτε πληροφορίες για τις ιδιότητες του γράφου.</a><BR>\n",
    "        <B><U>Υπόδειξη:</U></B> Μπορείτε να ελέγξετε προγραμματιστικά αν το dataset περιέχει διπλότυπα των ακμών με την ίδια ή αντίστροφη σειρά (π.χ. ακμές (a,b) και (b,a)), και να λάβετε υπ' όψιν σας αυτήν σας την παρατήρηση, όπου τυχόν χρειαστεί, στην ερώτηση 2.<BR></html>"
   ]
  },
  {
   "attachments": {},
   "cell_type": "markdown",
   "id": "c433a650",
   "metadata": {},
   "source": [
    "### 1(i)"
   ]
  },
  {
   "cell_type": "code",
   "execution_count": 1,
   "id": "f160fde9",
   "metadata": {},
   "outputs": [],
   "source": [
    "from functools import wraps\n",
    "from multiprocessing import cpu_count\n",
    "\n",
    "import numpy as np\n",
    "import pandas as pd\n",
    "import networkx as nx\n",
    "from sklearn.metrics import accuracy_score, precision_score, recall_score, f1_score, classification_report\n",
    "from node2vec.node2vec import Node2Vec, gensim\n",
    "\n",
    "RANDOM_STATE = 42\n",
    "K = int('03400149') % 10\n",
    "\n",
    "\n",
    "class Node2VecFixed(Node2Vec):\n",
    "\n",
    "    def fit(self, **skip_gram_params):\n",
    "        size_kwarg = 'size' if tuple(gensim.__version__.split('.')) < ('4',) else 'vector_size'\n",
    "\n",
    "        if 'workers' not in skip_gram_params:\n",
    "            skip_gram_params['workers'] = self.workers\n",
    "\n",
    "        if size_kwarg not in skip_gram_params:\n",
    "            skip_gram_params[size_kwarg] = self.dimensions\n",
    "\n",
    "        return gensim.models.Word2Vec(self.walks, **skip_gram_params)"
   ]
  },
  {
   "cell_type": "code",
   "execution_count": 2,
   "id": "e30fe3e9",
   "metadata": {
    "pycharm": {
     "name": "#%%\n"
    }
   },
   "outputs": [],
   "source": [
    "G: nx.Graph = nx.read_edgelist(\n",
    "    'dbpedia-similar/out.dbpedia-similar',\n",
    "    comments='%',\n",
    ")"
   ]
  },
  {
   "cell_type": "code",
   "execution_count": 3,
   "id": "65397ec2",
   "metadata": {
    "pycharm": {
     "name": "#%%\n"
    }
   },
   "outputs": [
    {
     "data": {
      "text/plain": [
       "False"
      ]
     },
     "execution_count": 3,
     "metadata": {},
     "output_type": "execute_result"
    }
   ],
   "source": [
    "G.is_directed()"
   ]
  },
  {
   "cell_type": "code",
   "execution_count": 4,
   "id": "e64533d3",
   "metadata": {
    "pycharm": {
     "name": "#%%\n"
    }
   },
   "outputs": [
    {
     "data": {
      "text/plain": [
       "{('420', '420')}"
      ]
     },
     "execution_count": 4,
     "metadata": {},
     "output_type": "execute_result"
    }
   ],
   "source": [
    "selfloops = set(nx.selfloop_edges(G))\n",
    "selfloops"
   ]
  },
  {
   "cell_type": "code",
   "execution_count": 5,
   "id": "81440740",
   "metadata": {
    "pycharm": {
     "name": "#%%\n"
    }
   },
   "outputs": [],
   "source": [
    "G.remove_edges_from(selfloops)"
   ]
  },
  {
   "cell_type": "markdown",
   "id": "4bd79bac",
   "metadata": {
    "pycharm": {
     "name": "#%% md\n"
    }
   },
   "source": [
    " <li><B>1(ii).</B> Εμφανίστε τον αριθμό των κόμβων, τον αριθμό των ακμών, τον μέσο βαθμό των κόμβων και τον αριθμό των συνεκτικών συνιστωσών (connected components) για τον γράφο $G$.</li><BR>"
   ]
  },
  {
   "attachments": {},
   "cell_type": "markdown",
   "id": "f60c40f0",
   "metadata": {},
   "source": [
    "### 1(ii)"
   ]
  },
  {
   "cell_type": "code",
   "execution_count": 6,
   "id": "4a9ec956",
   "metadata": {},
   "outputs": [
    {
     "name": "stdout",
     "output_type": "stream",
     "text": [
      "Number of nodes: 430\n",
      "Number of edges: 564\n",
      "Average node degree: 2.6232558139534885\n",
      "Number of connected components: 95\n",
      "\n"
     ]
    }
   ],
   "source": [
    "def graph_summary(G: nx.Graph):\n",
    "    summary = (\n",
    "        f'Number of nodes: {G.number_of_nodes()}\\n'\n",
    "        f'Number of edges: {G.number_of_edges()}\\n'\n",
    "        f'Average node degree: {np.mean([degree for _, degree in G.degree()])}\\n'\n",
    "        f'Number of connected components: {nx.number_connected_components(G)}\\n'\n",
    "    )\n",
    "    return summary\n",
    "\n",
    "\n",
    "print(graph_summary(G))"
   ]
  },
  {
   "cell_type": "markdown",
   "id": "bf03f6b9",
   "metadata": {
    "pycharm": {
     "name": "#%% md\n"
    }
   },
   "source": [
    "<li><B>1(iii). </B>Υπολογίστε το σύνολο των ασύνδετων ζευγών κόμβων (unconnected pairs) στον γράφο χρησιμοποιώντας τον πίνακα γειτνίασης (adjacency matrix). Δώστε επίσης τον αριθμό τους. Λάβετε υπ' όψιν σας ότι ο γράφος είναι μη κατευθυνόμενος και δεν χρειάζεται να διατρέξετε ολόκληρο τον πίνακα γειτνίασης.</li><BR>"
   ]
  },
  {
   "attachments": {},
   "cell_type": "markdown",
   "id": "f250622f",
   "metadata": {},
   "source": [
    "### 1(iii)"
   ]
  },
  {
   "cell_type": "code",
   "execution_count": 7,
   "id": "70c48ca5",
   "metadata": {
    "pycharm": {
     "name": "#%%\n"
    }
   },
   "outputs": [
    {
     "name": "stdout",
     "output_type": "stream",
     "text": [
      "Number of unconnected pairs: 91671\n"
     ]
    }
   ],
   "source": [
    "adj = nx.to_scipy_sparse_array(G)\n",
    "triu_indices = np.triu_indices_from(adj, k=1)\n",
    "zero_triu_indices_mask = adj[triu_indices] == 0\n",
    "zero_triu_indices = triu_indices[0][zero_triu_indices_mask], triu_indices[1][zero_triu_indices_mask]\n",
    "nodes = np.array(list(G.nodes()))\n",
    "unconnected_pairs = list(zip(nodes[zero_triu_indices[0]], nodes[zero_triu_indices[1]]))\n",
    "\n",
    "print(f'Number of unconnected pairs: {len(unconnected_pairs)}')"
   ]
  },
  {
   "cell_type": "markdown",
   "id": "154c2a8d",
   "metadata": {
    "pycharm": {
     "name": "#%% md\n"
    }
   },
   "source": [
    "<li><B>1(iv).</B> Υπολογίστε το σύνολο των ακμών (removable edges) που μπορούν να αφαιρεθούν από τον γράφο χωρίς να υπάρχει κατάτμηση (splitting) του γράφου (δηλ. ο αριθμός των συνεκτικών συνιστωσών θα πρέπει να παραμένει αμετάβλητος). Υπόδειξη: Ελέγχετε επίσης ότι με αφαίρεση ακμής δεν μειώνεται ο αριθμός των κόμβων (εφόσον δεν υπάρχει ξεχωριστό αρχείο μόνο με κόμβους στο dataset). Δώστε επίσης τον αριθμό των ακμών (removable edges) που μπορούν να αφαιρεθούν υπό αυτές τις προϋποθέσεις.</li><BR>"
   ]
  },
  {
   "attachments": {},
   "cell_type": "markdown",
   "id": "743cc0f6",
   "metadata": {},
   "source": [
    "### 1(iv)"
   ]
  },
  {
   "cell_type": "code",
   "execution_count": 8,
   "id": "8a6e2bc8",
   "metadata": {
    "pycharm": {
     "name": "#%%\n"
    }
   },
   "outputs": [
    {
     "data": {
      "text/plain": [
       "229"
      ]
     },
     "execution_count": 8,
     "metadata": {},
     "output_type": "execute_result"
    }
   ],
   "source": [
    "removable_edges = []\n",
    "G_reduced = G.copy()\n",
    "\n",
    "for u, v in G.edges():\n",
    "    G_reduced.remove_edge(u, v)\n",
    "\n",
    "    if (\n",
    "        nx.number_connected_components(G_reduced) == nx.number_connected_components(G) and\n",
    "        nx.number_of_nodes(G_reduced) == nx.number_of_nodes(G)\n",
    "    ):\n",
    "        removable_edges.append((u, v))\n",
    "    else:\n",
    "        G_reduced.add_edge(u, v)\n",
    "\n",
    "len(removable_edges)"
   ]
  },
  {
   "cell_type": "markdown",
   "id": "eb03d745",
   "metadata": {
    "pycharm": {
     "name": "#%% md\n"
    }
   },
   "source": [
    "<li><B>1(vα).</B> Κατασκευάστε dataframe που συνενώνει τις απαντήσεις των ερωτημάτων 1(iii) και 1(iv) (unconnected+removables). Χρησιμοποιήστε την μεταβλητή $link$ που θα παίρνει τιμή 1 ή 0 ανάλογα με την ύπαρξη συνδέσμου ή μη. To dataframe αυτό συγκεντρώνει τα θετικά και αρνητικά δείγματα για την πρόβλεψη των μελλοντικών συνδέσεων (link: target variable). <BR>\n",
    "    <li><B>1(vβ).</B> Κατασκευάστε τον γράφο $G'$ που προκύπτει από την αφαίρεση από τον γράφο $G$ των ακμών του ερωτήματος 1(iv). <BR>\n",
    "    <li><B>1(vγ).</B> Εμφανίστε τον αριθμό των κόμβων, τον αριθμό των ακμών, τον μέσο βαθμό των κόμβων και τον αριθμό των συνεκτικών συνιστωσών (connected components) για τον γράφο $G'$.</li><BR>"
   ]
  },
  {
   "attachments": {},
   "cell_type": "markdown",
   "id": "e2987a7b",
   "metadata": {},
   "source": [
    "### 1(vα)"
   ]
  },
  {
   "cell_type": "code",
   "execution_count": 9,
   "id": "c6094c3c",
   "metadata": {
    "pycharm": {
     "name": "#%%\n"
    }
   },
   "outputs": [],
   "source": [
    "ground_truths = pd.Series(\n",
    "    data=[0] * len(unconnected_pairs) + [1] * len(removable_edges),\n",
    "    index=unconnected_pairs + removable_edges,\n",
    "    name='is_edge'\n",
    ")"
   ]
  },
  {
   "attachments": {},
   "cell_type": "markdown",
   "id": "e9a70c2c",
   "metadata": {},
   "source": [
    "### 1(vβ)\n",
    "\n",
    "Είναι το G_reduced του 1(iv)"
   ]
  },
  {
   "attachments": {},
   "cell_type": "markdown",
   "id": "d9f6ad6e",
   "metadata": {},
   "source": [
    "### 1 (vγ)"
   ]
  },
  {
   "cell_type": "code",
   "execution_count": 10,
   "id": "7e6ed83b",
   "metadata": {
    "pycharm": {
     "name": "#%%\n"
    }
   },
   "outputs": [
    {
     "name": "stdout",
     "output_type": "stream",
     "text": [
      "Original Graph\n",
      "Number of nodes: 430\n",
      "Number of edges: 564\n",
      "Average node degree: 2.6232558139534885\n",
      "Number of connected components: 95\n",
      "\n",
      "Reduced Graph\n",
      "Number of nodes: 430\n",
      "Number of edges: 335\n",
      "Average node degree: 1.558139534883721\n",
      "Number of connected components: 95\n",
      "\n"
     ]
    }
   ],
   "source": [
    "print('Original Graph', graph_summary(G), 'Reduced Graph', graph_summary(G_reduced), sep='\\n')"
   ]
  },
  {
   "attachments": {},
   "cell_type": "markdown",
   "id": "5e0e7128",
   "metadata": {},
   "source": [
    "## 2"
   ]
  },
  {
   "cell_type": "markdown",
   "id": "184eae57",
   "metadata": {
    "pycharm": {
     "name": "#%% md\n"
    }
   },
   "source": [
    "<html><font size=4><B>2. Εισαγωγή σε similarity-based μετρικές για Link prediction</B></font><BR><BR>\n",
    "     <li> Η μετρική <B>Jaccard Coefficient (JC)</B> των κόμβων ${u}$ και ${v}$ ορίζεται ως $\\frac{|\\Gamma(u) \\cap \\Gamma(v)|}{|\\Gamma(u) \\cup \\Gamma(v)|}$, όπου ${\\Gamma(u)}$ είναι το σύνολο των γειτονικών κόμβων του κόμβου ${u}$.  <B></B>\n",
    "        <li> Η μετρική <B>Preferential Αttachment (PA)</B> των κόμβων $u$ και $v$ ορίζεται ως $|\\Gamma(u)| |\\Gamma(v)|$, όπου $\\Gamma(u)$ είναι το σύνολο των γειτονικών κόμβων του $u$.</li>\n",
    "        <li> Η μετρική <B>Resource Allocation (RA)</B> των κόμβων $u$ και $v$ ορίζεται ως $\\sum_{w \\in \\Gamma(u) \\cap \\Gamma(v)} \\frac{1}{|\\Gamma(w)|}$, όπου $\\Gamma(u)$ είναι το σύνολο των γειτονικών κόμβων του $u$.</li><BR><BR>\n",
    "    <li><B>2(i).</B> Για τον γράφο $G'$, που κατασκευάσατε στο ερώτημα 1(vβ), υπολογίστε την μετρική <B>Jaccard Coefficient (JC)</B>.  <u><a href=\"https://networkx.org/documentation/stable/reference/algorithms/link_prediction.html?highlight=link%20prediction\">Χρησιμοποιήστε την υλοποιημένη συνάρτηση του λογισμικού NetworkX.<a></u> <BR><BR>\n",
    "    <li><B>2(ii). </B>Δώστε τις $k$ ακμές με την υψηλότερη τιμή μετρικής $JC$, όπου $k$ ο $Α.Μ.$ σας $mod$ $10$. Για $Α.Μ.$ λήγοντα σε $0$ δώστε τις $10$ ακμές με την υψηλότερη τιμή μετρικής.\n",
    "        (Για την σύγκριση μεταξύ διαφορετικών μετρικών προτιμάται η εύρεση των $k$ επικρατέστερων συνδέσμων, αφού οι μετρικές επιστρέφουν διαφορετικό εύρος τιμών.)</li><BR>\n",
    "    <li><B>2(iii). </B>Προσδιορίστε για την μέτρηση της απόδοσης της μετρικής $JC$ τα μεγέθη $Precision$, $Recall$ και $Accuracy$ και αναπαραστήστε τα γραφικά για τιμές κατωφλίου: $0.1$, $0.15$, $0.25$, $0.5$, $1.0$.  <BR><BR>\n",
    "    $Precision=\\frac{TP}{TP+FP}$, όπου $TP$: αληθώς θετικά αποτελέσματα, $FP$: ψευδώς θετικά αποτελέσματα <BR>\n",
    "    $Recall=\\frac{TP}{TP+FN}$, όπου $TP$: αληθώς θετικά αποτελέσματα, $FN$: ψευδώς αρνητικά αποτελέσματα</li> \n",
    "    $Accuracy=\\frac{TP+TN}{TP+FN+TN+FP}$, όπου $TP$: αληθώς θετικά αποτελέσματα, $TN$: αληθώς αρνητικά αποτελέσματα, $FN$: ψευδώς αρνητικά αποτελέσματα, $FP$: ψευδώς θετικά αποτελέσματα</li><BR><BR>\n",
    "        <B><U>Υπόδειξη:</U></B>\n",
    "        Θετικό θεωρήστε ένα αποτέλεσμα, αν η μετρική $JC$ υπερβαίνει μια τιμή κατωφλίου (>=). Αρνητικό θεωρήστε το στην αντίθετη περίπτωση.\n",
    "        <li>Αληθώς θετικά είναι τα αποτελέσματα που βγήκαν θετικά (η τιμή της $JC$ υπερβαίνει την τιμή κατωφλίου) και πράγματι θα υπάρξουν οι συνδέσεις που περιγράφουν (ερ. 1(iv)).</li>\n",
    "        <li>Αληθώς αρνητικά είναι τα αποτελέσματα που βγήκαν αρνητικά και πράγματι δεν θα υπάρξουν οι συνδέσεις που περιγράφουν (ερ. 1(iii)).</li>\n",
    "        <li>Ψευδώς θετικά είναι τα αποτελέσματα που βγήκαν θετικά, ενώ δεν θα υπάρξουν οι συνδέσεις που περιγράφουν.</li>\n",
    "        <li>Ψευδώς αρνητικά είναι τα αποτελέσματα που βγήκαν αρνητικά, ενώ θα υπάρξουν οι συνδέσεις που περιγράφουν.</li>\n",
    "        <li>Το άθροισμα $TN+FP$ πρέπει κάθε φορά να σας δίνει όλες τις ασύνδετες ακμές του γράφου $G$.</li>   \n",
    "<li>Από το ερώτημα 1(iii) οι ακμές που υπολογίσατε είναι αυτές για τις οποίες δεν θα υπάρξουν συνδέσεις.</li> <li>Από το ερώτημα 1(iv) οι ακμές που υπολογίσατε είναι αυτές για τις οποίες θα υπάρξουν συνδέσεις.</li><BR></html>"
   ]
  },
  {
   "attachments": {},
   "cell_type": "markdown",
   "id": "6acc0ddc",
   "metadata": {},
   "source": [
    "### 2(i)"
   ]
  },
  {
   "cell_type": "code",
   "execution_count": 11,
   "id": "6f3adce8",
   "metadata": {},
   "outputs": [
    {
     "data": {
      "text/plain": [
       "0.000000    91391\n",
       "1.000000      247\n",
       "0.500000       84\n",
       "0.333333       75\n",
       "0.250000       42\n",
       "0.166667       20\n",
       "0.200000       19\n",
       "0.142857       10\n",
       "0.125000        6\n",
       "0.111111        2\n",
       "0.090909        1\n",
       "0.083333        1\n",
       "0.071429        1\n",
       "0.076923        1\n",
       "Name: jaccard_coefficient, dtype: int64"
      ]
     },
     "execution_count": 11,
     "metadata": {},
     "output_type": "execute_result"
    }
   ],
   "source": [
    "def link_predictor_wrapper(link_predictor):\n",
    "\n",
    "    @wraps(link_predictor)\n",
    "    def inner(G, ebunch, **kwargs):\n",
    "        pairs = []\n",
    "        coefficients = []\n",
    "\n",
    "        for u, v, coefficient in link_predictor(G, ebunch, **kwargs):\n",
    "            pairs.append((u, v))\n",
    "            coefficients.append(coefficient)\n",
    "\n",
    "        coefficients_series = pd.Series(data=coefficients, index=pairs, name=link_predictor.__name__)\n",
    "        coefficients_series = coefficients_series.loc[ebunch]\n",
    "\n",
    "        return coefficients_series\n",
    "\n",
    "    return inner\n",
    "\n",
    "\n",
    "jc = link_predictor_wrapper(nx.jaccard_coefficient)(G_reduced, ground_truths.index)\n",
    "jc.value_counts()"
   ]
  },
  {
   "attachments": {},
   "cell_type": "markdown",
   "id": "e0c9f805",
   "metadata": {},
   "source": [
    "### 2 (ii)"
   ]
  },
  {
   "cell_type": "code",
   "execution_count": 12,
   "id": "10e96f71",
   "metadata": {},
   "outputs": [
    {
     "data": {
      "text/plain": [
       "(4, 46)      1.0\n",
       "(4, 47)      1.0\n",
       "(4, 49)      1.0\n",
       "(46, 47)     1.0\n",
       "(46, 49)     1.0\n",
       "(47, 49)     1.0\n",
       "(23, 34)     1.0\n",
       "(27, 33)     1.0\n",
       "(100, 92)    1.0\n",
       "Name: jaccard_coefficient, dtype: float64"
      ]
     },
     "execution_count": 12,
     "metadata": {},
     "output_type": "execute_result"
    }
   ],
   "source": [
    "jc.nlargest(K)"
   ]
  },
  {
   "attachments": {},
   "cell_type": "markdown",
   "id": "0fc585bc",
   "metadata": {},
   "source": [
    "### 2 (iii)"
   ]
  },
  {
   "cell_type": "code",
   "execution_count": 13,
   "id": "0bb9383e",
   "metadata": {},
   "outputs": [
    {
     "name": "stderr",
     "output_type": "stream",
     "text": [
      "/home/konstantinos/miniconda3/envs/sna/lib/python3.10/site-packages/sklearn/metrics/_classification.py:1334: UndefinedMetricWarning: Recall is ill-defined and being set to 0.0 due to no true samples. Use `zero_division` parameter to control this behavior.\n",
      "  _warn_prf(average, modifier, msg_start, len(result))\n"
     ]
    },
    {
     "data": {
      "text/html": [
       "<div>\n",
       "<style scoped>\n",
       "    .dataframe tbody tr th:only-of-type {\n",
       "        vertical-align: middle;\n",
       "    }\n",
       "\n",
       "    .dataframe tbody tr th {\n",
       "        vertical-align: top;\n",
       "    }\n",
       "\n",
       "    .dataframe thead th {\n",
       "        text-align: right;\n",
       "    }\n",
       "</style>\n",
       "<table border=\"1\" class=\"dataframe\">\n",
       "  <thead>\n",
       "    <tr style=\"text-align: right;\">\n",
       "      <th></th>\n",
       "      <th>link_predictor</th>\n",
       "      <th>metric</th>\n",
       "      <th>threshold</th>\n",
       "      <th>score</th>\n",
       "    </tr>\n",
       "  </thead>\n",
       "  <tbody>\n",
       "    <tr>\n",
       "      <th>0</th>\n",
       "      <td>jaccard_coefficient</td>\n",
       "      <td>precision_score</td>\n",
       "      <td>0.10</td>\n",
       "      <td>0.707424</td>\n",
       "    </tr>\n",
       "    <tr>\n",
       "      <th>1</th>\n",
       "      <td>jaccard_coefficient</td>\n",
       "      <td>precision_score</td>\n",
       "      <td>0.15</td>\n",
       "      <td>0.689956</td>\n",
       "    </tr>\n",
       "    <tr>\n",
       "      <th>2</th>\n",
       "      <td>jaccard_coefficient</td>\n",
       "      <td>precision_score</td>\n",
       "      <td>0.25</td>\n",
       "      <td>0.676856</td>\n",
       "    </tr>\n",
       "    <tr>\n",
       "      <th>3</th>\n",
       "      <td>jaccard_coefficient</td>\n",
       "      <td>precision_score</td>\n",
       "      <td>0.50</td>\n",
       "      <td>0.602620</td>\n",
       "    </tr>\n",
       "    <tr>\n",
       "      <th>4</th>\n",
       "      <td>jaccard_coefficient</td>\n",
       "      <td>precision_score</td>\n",
       "      <td>1.00</td>\n",
       "      <td>0.550218</td>\n",
       "    </tr>\n",
       "    <tr>\n",
       "      <th>5</th>\n",
       "      <td>jaccard_coefficient</td>\n",
       "      <td>recall_score</td>\n",
       "      <td>0.10</td>\n",
       "      <td>0.320792</td>\n",
       "    </tr>\n",
       "    <tr>\n",
       "      <th>6</th>\n",
       "      <td>jaccard_coefficient</td>\n",
       "      <td>recall_score</td>\n",
       "      <td>0.15</td>\n",
       "      <td>0.324435</td>\n",
       "    </tr>\n",
       "    <tr>\n",
       "      <th>7</th>\n",
       "      <td>jaccard_coefficient</td>\n",
       "      <td>recall_score</td>\n",
       "      <td>0.25</td>\n",
       "      <td>0.345982</td>\n",
       "    </tr>\n",
       "    <tr>\n",
       "      <th>8</th>\n",
       "      <td>jaccard_coefficient</td>\n",
       "      <td>recall_score</td>\n",
       "      <td>0.50</td>\n",
       "      <td>0.416918</td>\n",
       "    </tr>\n",
       "    <tr>\n",
       "      <th>9</th>\n",
       "      <td>jaccard_coefficient</td>\n",
       "      <td>recall_score</td>\n",
       "      <td>1.00</td>\n",
       "      <td>0.510121</td>\n",
       "    </tr>\n",
       "    <tr>\n",
       "      <th>10</th>\n",
       "      <td>jaccard_coefficient</td>\n",
       "      <td>accuracy_score</td>\n",
       "      <td>0.10</td>\n",
       "      <td>0.995539</td>\n",
       "    </tr>\n",
       "    <tr>\n",
       "      <th>11</th>\n",
       "      <td>jaccard_coefficient</td>\n",
       "      <td>accuracy_score</td>\n",
       "      <td>0.15</td>\n",
       "      <td>0.995647</td>\n",
       "    </tr>\n",
       "    <tr>\n",
       "      <th>12</th>\n",
       "      <td>jaccard_coefficient</td>\n",
       "      <td>accuracy_score</td>\n",
       "      <td>0.25</td>\n",
       "      <td>0.996007</td>\n",
       "    </tr>\n",
       "    <tr>\n",
       "      <th>13</th>\n",
       "      <td>jaccard_coefficient</td>\n",
       "      <td>accuracy_score</td>\n",
       "      <td>0.50</td>\n",
       "      <td>0.996910</td>\n",
       "    </tr>\n",
       "    <tr>\n",
       "      <th>14</th>\n",
       "      <td>jaccard_coefficient</td>\n",
       "      <td>accuracy_score</td>\n",
       "      <td>1.00</td>\n",
       "      <td>0.997563</td>\n",
       "    </tr>\n",
       "    <tr>\n",
       "      <th>15</th>\n",
       "      <td>preferential_attachment</td>\n",
       "      <td>precision_score</td>\n",
       "      <td>0.10</td>\n",
       "      <td>1.000000</td>\n",
       "    </tr>\n",
       "    <tr>\n",
       "      <th>16</th>\n",
       "      <td>preferential_attachment</td>\n",
       "      <td>precision_score</td>\n",
       "      <td>0.15</td>\n",
       "      <td>1.000000</td>\n",
       "    </tr>\n",
       "    <tr>\n",
       "      <th>17</th>\n",
       "      <td>preferential_attachment</td>\n",
       "      <td>precision_score</td>\n",
       "      <td>0.25</td>\n",
       "      <td>1.000000</td>\n",
       "    </tr>\n",
       "    <tr>\n",
       "      <th>18</th>\n",
       "      <td>preferential_attachment</td>\n",
       "      <td>precision_score</td>\n",
       "      <td>0.50</td>\n",
       "      <td>1.000000</td>\n",
       "    </tr>\n",
       "    <tr>\n",
       "      <th>19</th>\n",
       "      <td>preferential_attachment</td>\n",
       "      <td>precision_score</td>\n",
       "      <td>1.00</td>\n",
       "      <td>1.000000</td>\n",
       "    </tr>\n",
       "    <tr>\n",
       "      <th>20</th>\n",
       "      <td>preferential_attachment</td>\n",
       "      <td>recall_score</td>\n",
       "      <td>0.10</td>\n",
       "      <td>0.002504</td>\n",
       "    </tr>\n",
       "    <tr>\n",
       "      <th>21</th>\n",
       "      <td>preferential_attachment</td>\n",
       "      <td>recall_score</td>\n",
       "      <td>0.15</td>\n",
       "      <td>0.002504</td>\n",
       "    </tr>\n",
       "    <tr>\n",
       "      <th>22</th>\n",
       "      <td>preferential_attachment</td>\n",
       "      <td>recall_score</td>\n",
       "      <td>0.25</td>\n",
       "      <td>0.002504</td>\n",
       "    </tr>\n",
       "    <tr>\n",
       "      <th>23</th>\n",
       "      <td>preferential_attachment</td>\n",
       "      <td>recall_score</td>\n",
       "      <td>0.50</td>\n",
       "      <td>0.002504</td>\n",
       "    </tr>\n",
       "    <tr>\n",
       "      <th>24</th>\n",
       "      <td>preferential_attachment</td>\n",
       "      <td>recall_score</td>\n",
       "      <td>1.00</td>\n",
       "      <td>0.002504</td>\n",
       "    </tr>\n",
       "    <tr>\n",
       "      <th>25</th>\n",
       "      <td>preferential_attachment</td>\n",
       "      <td>accuracy_score</td>\n",
       "      <td>0.10</td>\n",
       "      <td>0.007160</td>\n",
       "    </tr>\n",
       "    <tr>\n",
       "      <th>26</th>\n",
       "      <td>preferential_attachment</td>\n",
       "      <td>accuracy_score</td>\n",
       "      <td>0.15</td>\n",
       "      <td>0.007160</td>\n",
       "    </tr>\n",
       "    <tr>\n",
       "      <th>27</th>\n",
       "      <td>preferential_attachment</td>\n",
       "      <td>accuracy_score</td>\n",
       "      <td>0.25</td>\n",
       "      <td>0.007160</td>\n",
       "    </tr>\n",
       "    <tr>\n",
       "      <th>28</th>\n",
       "      <td>preferential_attachment</td>\n",
       "      <td>accuracy_score</td>\n",
       "      <td>0.50</td>\n",
       "      <td>0.007160</td>\n",
       "    </tr>\n",
       "    <tr>\n",
       "      <th>29</th>\n",
       "      <td>preferential_attachment</td>\n",
       "      <td>accuracy_score</td>\n",
       "      <td>1.00</td>\n",
       "      <td>0.007160</td>\n",
       "    </tr>\n",
       "    <tr>\n",
       "      <th>30</th>\n",
       "      <td>resource_allocation_index</td>\n",
       "      <td>precision_score</td>\n",
       "      <td>0.10</td>\n",
       "      <td>0.248908</td>\n",
       "    </tr>\n",
       "    <tr>\n",
       "      <th>31</th>\n",
       "      <td>resource_allocation_index</td>\n",
       "      <td>precision_score</td>\n",
       "      <td>0.15</td>\n",
       "      <td>0.244541</td>\n",
       "    </tr>\n",
       "    <tr>\n",
       "      <th>32</th>\n",
       "      <td>resource_allocation_index</td>\n",
       "      <td>precision_score</td>\n",
       "      <td>0.25</td>\n",
       "      <td>0.135371</td>\n",
       "    </tr>\n",
       "    <tr>\n",
       "      <th>33</th>\n",
       "      <td>resource_allocation_index</td>\n",
       "      <td>precision_score</td>\n",
       "      <td>0.50</td>\n",
       "      <td>0.074236</td>\n",
       "    </tr>\n",
       "    <tr>\n",
       "      <th>34</th>\n",
       "      <td>resource_allocation_index</td>\n",
       "      <td>precision_score</td>\n",
       "      <td>1.00</td>\n",
       "      <td>0.000000</td>\n",
       "    </tr>\n",
       "    <tr>\n",
       "      <th>35</th>\n",
       "      <td>resource_allocation_index</td>\n",
       "      <td>recall_score</td>\n",
       "      <td>0.10</td>\n",
       "      <td>0.163324</td>\n",
       "    </tr>\n",
       "    <tr>\n",
       "      <th>36</th>\n",
       "      <td>resource_allocation_index</td>\n",
       "      <td>recall_score</td>\n",
       "      <td>0.15</td>\n",
       "      <td>0.170732</td>\n",
       "    </tr>\n",
       "    <tr>\n",
       "      <th>37</th>\n",
       "      <td>resource_allocation_index</td>\n",
       "      <td>recall_score</td>\n",
       "      <td>0.25</td>\n",
       "      <td>0.133047</td>\n",
       "    </tr>\n",
       "    <tr>\n",
       "      <th>38</th>\n",
       "      <td>resource_allocation_index</td>\n",
       "      <td>recall_score</td>\n",
       "      <td>0.50</td>\n",
       "      <td>0.191011</td>\n",
       "    </tr>\n",
       "    <tr>\n",
       "      <th>39</th>\n",
       "      <td>resource_allocation_index</td>\n",
       "      <td>recall_score</td>\n",
       "      <td>1.00</td>\n",
       "      <td>0.000000</td>\n",
       "    </tr>\n",
       "    <tr>\n",
       "      <th>40</th>\n",
       "      <td>resource_allocation_index</td>\n",
       "      <td>accuracy_score</td>\n",
       "      <td>0.10</td>\n",
       "      <td>0.994951</td>\n",
       "    </tr>\n",
       "    <tr>\n",
       "      <th>41</th>\n",
       "      <td>resource_allocation_index</td>\n",
       "      <td>accuracy_score</td>\n",
       "      <td>0.15</td>\n",
       "      <td>0.995158</td>\n",
       "    </tr>\n",
       "    <tr>\n",
       "      <th>42</th>\n",
       "      <td>resource_allocation_index</td>\n",
       "      <td>accuracy_score</td>\n",
       "      <td>0.25</td>\n",
       "      <td>0.995647</td>\n",
       "    </tr>\n",
       "    <tr>\n",
       "      <th>43</th>\n",
       "      <td>resource_allocation_index</td>\n",
       "      <td>accuracy_score</td>\n",
       "      <td>0.50</td>\n",
       "      <td>0.996910</td>\n",
       "    </tr>\n",
       "    <tr>\n",
       "      <th>44</th>\n",
       "      <td>resource_allocation_index</td>\n",
       "      <td>accuracy_score</td>\n",
       "      <td>1.00</td>\n",
       "      <td>0.997508</td>\n",
       "    </tr>\n",
       "  </tbody>\n",
       "</table>\n",
       "</div>"
      ],
      "text/plain": [
       "               link_predictor           metric  threshold     score\n",
       "0         jaccard_coefficient  precision_score       0.10  0.707424\n",
       "1         jaccard_coefficient  precision_score       0.15  0.689956\n",
       "2         jaccard_coefficient  precision_score       0.25  0.676856\n",
       "3         jaccard_coefficient  precision_score       0.50  0.602620\n",
       "4         jaccard_coefficient  precision_score       1.00  0.550218\n",
       "5         jaccard_coefficient     recall_score       0.10  0.320792\n",
       "6         jaccard_coefficient     recall_score       0.15  0.324435\n",
       "7         jaccard_coefficient     recall_score       0.25  0.345982\n",
       "8         jaccard_coefficient     recall_score       0.50  0.416918\n",
       "9         jaccard_coefficient     recall_score       1.00  0.510121\n",
       "10        jaccard_coefficient   accuracy_score       0.10  0.995539\n",
       "11        jaccard_coefficient   accuracy_score       0.15  0.995647\n",
       "12        jaccard_coefficient   accuracy_score       0.25  0.996007\n",
       "13        jaccard_coefficient   accuracy_score       0.50  0.996910\n",
       "14        jaccard_coefficient   accuracy_score       1.00  0.997563\n",
       "15    preferential_attachment  precision_score       0.10  1.000000\n",
       "16    preferential_attachment  precision_score       0.15  1.000000\n",
       "17    preferential_attachment  precision_score       0.25  1.000000\n",
       "18    preferential_attachment  precision_score       0.50  1.000000\n",
       "19    preferential_attachment  precision_score       1.00  1.000000\n",
       "20    preferential_attachment     recall_score       0.10  0.002504\n",
       "21    preferential_attachment     recall_score       0.15  0.002504\n",
       "22    preferential_attachment     recall_score       0.25  0.002504\n",
       "23    preferential_attachment     recall_score       0.50  0.002504\n",
       "24    preferential_attachment     recall_score       1.00  0.002504\n",
       "25    preferential_attachment   accuracy_score       0.10  0.007160\n",
       "26    preferential_attachment   accuracy_score       0.15  0.007160\n",
       "27    preferential_attachment   accuracy_score       0.25  0.007160\n",
       "28    preferential_attachment   accuracy_score       0.50  0.007160\n",
       "29    preferential_attachment   accuracy_score       1.00  0.007160\n",
       "30  resource_allocation_index  precision_score       0.10  0.248908\n",
       "31  resource_allocation_index  precision_score       0.15  0.244541\n",
       "32  resource_allocation_index  precision_score       0.25  0.135371\n",
       "33  resource_allocation_index  precision_score       0.50  0.074236\n",
       "34  resource_allocation_index  precision_score       1.00  0.000000\n",
       "35  resource_allocation_index     recall_score       0.10  0.163324\n",
       "36  resource_allocation_index     recall_score       0.15  0.170732\n",
       "37  resource_allocation_index     recall_score       0.25  0.133047\n",
       "38  resource_allocation_index     recall_score       0.50  0.191011\n",
       "39  resource_allocation_index     recall_score       1.00  0.000000\n",
       "40  resource_allocation_index   accuracy_score       0.10  0.994951\n",
       "41  resource_allocation_index   accuracy_score       0.15  0.995158\n",
       "42  resource_allocation_index   accuracy_score       0.25  0.995647\n",
       "43  resource_allocation_index   accuracy_score       0.50  0.996910\n",
       "44  resource_allocation_index   accuracy_score       1.00  0.997508"
      ]
     },
     "execution_count": 13,
     "metadata": {},
     "output_type": "execute_result"
    }
   ],
   "source": [
    "link_predictors = nx.jaccard_coefficient, nx.preferential_attachment, nx.resource_allocation_index\n",
    "thresholds = 0.1, 0.15, 0.25, 0.5, 1.0\n",
    "metrics = precision_score, recall_score, accuracy_score\n",
    "\n",
    "res = []\n",
    "\n",
    "for link_predictor in map(link_predictor_wrapper, link_predictors):\n",
    "    vals = link_predictor(G_reduced, ground_truths.index)\n",
    "    for metric in metrics:\n",
    "        for threshold in thresholds:\n",
    "            predictions = (vals >= threshold).astype(int)\n",
    "            score = metric(predictions, ground_truths)\n",
    "            res.append((link_predictor.__name__, metric.__name__, threshold, score))\n",
    "\n",
    "pd.DataFrame(res, columns=['link_predictor', 'metric', 'threshold', 'score'])"
   ]
  },
  {
   "cell_type": "markdown",
   "id": "f49d579c",
   "metadata": {},
   "source": [
    "## 3"
   ]
  },
  {
   "cell_type": "markdown",
   "id": "d432396f",
   "metadata": {
    "pycharm": {
     "name": "#%% md\n"
    }
   },
   "source": [
    "<html><font size=4><B>3. Πρόβλεψη συνδέσμων βάσει similarity-based μετρικών</B></font>    \n",
    "        <li><B>3(i).</B> Προτείνετε μια τουλάχιστον μέθοδο, για να εξερευνήσουμε και να εκφράσουμε μέσα από τα πακέτα NumPy ή SciPy ή Pandas την συσχέτιση (correlation) μεταξύ των τιμών των μετρικών <B>Jaccard Coefficient</B>, <B>Preferential Attachment</B>, <B>Resource Allocation</B> για τον μειωμένο γράφο $G'$. Σημ.: Δεν χρειάζεται κάποια υλοποίηση, μόνο αναφορά της μεθόδου συσχέτισης και επεξήγηση της επιλογής σας.\n",
    "     <li><B>3(ii).</B> Εργαστείτε πάνω σε <B><U>αντίγραφο</U></B> του dataframe που κατασκευάσατε στο ερώτημα 1(vα) (unconnected+removables). Δημιουργήστε στήλη (column) με τις ακμές του γράφου και θέστε την ως index του dataframe. Στο dataframe θα προσθέσετε ως στήλες τις τιμές των μετρικών (<B>Jaccard Coefficient</B>, <B>Preferential Attachment</B>, <B>Resource Allocation</B>) για τον μειωμένο γράφο $G'$. Οι τιμές των μετρικών μπορούν να υπολογιστούν με τις συναρτήσεις του πακέτου NetworkX.</li>   </font></html>\n",
    "    \n",
    "    |       | link  |Jacc.Coeff.|Pr.Attachment| Resource Allocation|\n",
    "    |-------|-------|-----------|-------------|--------------------|\n",
    "    |(1, 6) |  0    |  0.333333 |     32      |    0.700000        |\n",
    "    |(1, 46)|  0    |  0.200000 |      8      |    0.166667        |"
   ]
  },
  {
   "attachments": {},
   "cell_type": "markdown",
   "id": "b73e94c1",
   "metadata": {},
   "source": [
    "### 3(ii)"
   ]
  },
  {
   "cell_type": "code",
   "execution_count": 14,
   "id": "244103c6",
   "metadata": {},
   "outputs": [
    {
     "data": {
      "text/html": [
       "<div>\n",
       "<style scoped>\n",
       "    .dataframe tbody tr th:only-of-type {\n",
       "        vertical-align: middle;\n",
       "    }\n",
       "\n",
       "    .dataframe tbody tr th {\n",
       "        vertical-align: top;\n",
       "    }\n",
       "\n",
       "    .dataframe thead th {\n",
       "        text-align: right;\n",
       "    }\n",
       "</style>\n",
       "<table border=\"1\" class=\"dataframe\">\n",
       "  <thead>\n",
       "    <tr style=\"text-align: right;\">\n",
       "      <th></th>\n",
       "      <th>is_edge</th>\n",
       "      <th>jaccard_coefficient</th>\n",
       "      <th>preferential_attachment</th>\n",
       "      <th>resource_allocation_index</th>\n",
       "    </tr>\n",
       "  </thead>\n",
       "  <tbody>\n",
       "    <tr>\n",
       "      <th>(1, 6)</th>\n",
       "      <td>0</td>\n",
       "      <td>0.0</td>\n",
       "      <td>7</td>\n",
       "      <td>0.0</td>\n",
       "    </tr>\n",
       "    <tr>\n",
       "      <th>(1, 46)</th>\n",
       "      <td>0</td>\n",
       "      <td>0.0</td>\n",
       "      <td>1</td>\n",
       "      <td>0.0</td>\n",
       "    </tr>\n",
       "    <tr>\n",
       "      <th>(1, 47)</th>\n",
       "      <td>0</td>\n",
       "      <td>0.0</td>\n",
       "      <td>1</td>\n",
       "      <td>0.0</td>\n",
       "    </tr>\n",
       "    <tr>\n",
       "      <th>(1, 48)</th>\n",
       "      <td>0</td>\n",
       "      <td>0.5</td>\n",
       "      <td>2</td>\n",
       "      <td>0.5</td>\n",
       "    </tr>\n",
       "    <tr>\n",
       "      <th>(1, 32)</th>\n",
       "      <td>0</td>\n",
       "      <td>0.0</td>\n",
       "      <td>6</td>\n",
       "      <td>0.0</td>\n",
       "    </tr>\n",
       "  </tbody>\n",
       "</table>\n",
       "</div>"
      ],
      "text/plain": [
       "         is_edge  jaccard_coefficient  preferential_attachment  \\\n",
       "(1, 6)         0                  0.0                        7   \n",
       "(1, 46)        0                  0.0                        1   \n",
       "(1, 47)        0                  0.0                        1   \n",
       "(1, 48)        0                  0.5                        2   \n",
       "(1, 32)        0                  0.0                        6   \n",
       "\n",
       "         resource_allocation_index  \n",
       "(1, 6)                         0.0  \n",
       "(1, 46)                        0.0  \n",
       "(1, 47)                        0.0  \n",
       "(1, 48)                        0.5  \n",
       "(1, 32)                        0.0  "
      ]
     },
     "execution_count": 14,
     "metadata": {},
     "output_type": "execute_result"
    }
   ],
   "source": [
    "df = pd.concat(\n",
    "    [\n",
    "        ground_truths, *(\n",
    "            link_predictor(G_reduced, ground_truths.index)\n",
    "            for link_predictor in map(link_predictor_wrapper, link_predictors)\n",
    "        )\n",
    "    ],\n",
    "    axis=1\n",
    ")\n",
    "df.head()"
   ]
  },
  {
   "attachments": {},
   "cell_type": "markdown",
   "id": "f90b1036",
   "metadata": {},
   "source": [
    "### 3(i)"
   ]
  },
  {
   "cell_type": "code",
   "execution_count": 15,
   "id": "2c10cc3d",
   "metadata": {},
   "outputs": [
    {
     "data": {
      "text/html": [
       "<div>\n",
       "<style scoped>\n",
       "    .dataframe tbody tr th:only-of-type {\n",
       "        vertical-align: middle;\n",
       "    }\n",
       "\n",
       "    .dataframe tbody tr th {\n",
       "        vertical-align: top;\n",
       "    }\n",
       "\n",
       "    .dataframe thead th {\n",
       "        text-align: right;\n",
       "    }\n",
       "</style>\n",
       "<table border=\"1\" class=\"dataframe\">\n",
       "  <thead>\n",
       "    <tr style=\"text-align: right;\">\n",
       "      <th></th>\n",
       "      <th>is_edge</th>\n",
       "      <th>jaccard_coefficient</th>\n",
       "      <th>preferential_attachment</th>\n",
       "      <th>resource_allocation_index</th>\n",
       "    </tr>\n",
       "  </thead>\n",
       "  <tbody>\n",
       "    <tr>\n",
       "      <th>is_edge</th>\n",
       "      <td>1.000000</td>\n",
       "      <td>0.543554</td>\n",
       "      <td>0.011689</td>\n",
       "      <td>0.254448</td>\n",
       "    </tr>\n",
       "    <tr>\n",
       "      <th>jaccard_coefficient</th>\n",
       "      <td>0.543554</td>\n",
       "      <td>1.000000</td>\n",
       "      <td>-0.015560</td>\n",
       "      <td>0.630806</td>\n",
       "    </tr>\n",
       "    <tr>\n",
       "      <th>preferential_attachment</th>\n",
       "      <td>0.011689</td>\n",
       "      <td>-0.015560</td>\n",
       "      <td>1.000000</td>\n",
       "      <td>0.030255</td>\n",
       "    </tr>\n",
       "    <tr>\n",
       "      <th>resource_allocation_index</th>\n",
       "      <td>0.254448</td>\n",
       "      <td>0.630806</td>\n",
       "      <td>0.030255</td>\n",
       "      <td>1.000000</td>\n",
       "    </tr>\n",
       "  </tbody>\n",
       "</table>\n",
       "</div>"
      ],
      "text/plain": [
       "                            is_edge  jaccard_coefficient  \\\n",
       "is_edge                    1.000000             0.543554   \n",
       "jaccard_coefficient        0.543554             1.000000   \n",
       "preferential_attachment    0.011689            -0.015560   \n",
       "resource_allocation_index  0.254448             0.630806   \n",
       "\n",
       "                           preferential_attachment  resource_allocation_index  \n",
       "is_edge                                   0.011689                   0.254448  \n",
       "jaccard_coefficient                      -0.015560                   0.630806  \n",
       "preferential_attachment                   1.000000                   0.030255  \n",
       "resource_allocation_index                 0.030255                   1.000000  "
      ]
     },
     "execution_count": 15,
     "metadata": {},
     "output_type": "execute_result"
    }
   ],
   "source": [
    "df.corr()"
   ]
  },
  {
   "cell_type": "markdown",
   "id": "76f9318d",
   "metadata": {
    "pycharm": {
     "name": "#%% md\n"
    }
   },
   "source": [
    "<li><B>3(iiiα).</B> Χρησιμοποιήστε τον Random Forest Classifier και το αντίγραφο dataframe που κατασκευάσατε στο ερώτημα 3(ii), για να προβλέψετε συνδέσεις. Συμπληρώστε στον κώδικα: τα features ($X$), την target variable ($y$) και τα ορίσματα της συνάρτησης $fit$ για το training του μοντέλου.</li>\n",
    "<li><B>3(iiiβ).</B> Δώστε τις ($A.M$ $mod$ $10$) πρώτες προβλέψεις και την ακρίβεια ($accuracy$) του μοντέλου. </li>\n",
    "<li><B>3(iiiγ).</B>Υπολογίστε την πιθανότητα να συνδεθούν οι κόμβοι ($1$,$47$) βάσει του μοντέλου σας. </li>  "
   ]
  },
  {
   "attachments": {},
   "cell_type": "markdown",
   "id": "8fe9fa9d",
   "metadata": {},
   "source": [
    "### 3(iiiα)"
   ]
  },
  {
   "cell_type": "code",
   "execution_count": 16,
   "id": "a0a33466",
   "metadata": {},
   "outputs": [
    {
     "data": {
      "text/html": [
       "<style>#sk-container-id-1 {color: black;background-color: white;}#sk-container-id-1 pre{padding: 0;}#sk-container-id-1 div.sk-toggleable {background-color: white;}#sk-container-id-1 label.sk-toggleable__label {cursor: pointer;display: block;width: 100%;margin-bottom: 0;padding: 0.3em;box-sizing: border-box;text-align: center;}#sk-container-id-1 label.sk-toggleable__label-arrow:before {content: \"▸\";float: left;margin-right: 0.25em;color: #696969;}#sk-container-id-1 label.sk-toggleable__label-arrow:hover:before {color: black;}#sk-container-id-1 div.sk-estimator:hover label.sk-toggleable__label-arrow:before {color: black;}#sk-container-id-1 div.sk-toggleable__content {max-height: 0;max-width: 0;overflow: hidden;text-align: left;background-color: #f0f8ff;}#sk-container-id-1 div.sk-toggleable__content pre {margin: 0.2em;color: black;border-radius: 0.25em;background-color: #f0f8ff;}#sk-container-id-1 input.sk-toggleable__control:checked~div.sk-toggleable__content {max-height: 200px;max-width: 100%;overflow: auto;}#sk-container-id-1 input.sk-toggleable__control:checked~label.sk-toggleable__label-arrow:before {content: \"▾\";}#sk-container-id-1 div.sk-estimator input.sk-toggleable__control:checked~label.sk-toggleable__label {background-color: #d4ebff;}#sk-container-id-1 div.sk-label input.sk-toggleable__control:checked~label.sk-toggleable__label {background-color: #d4ebff;}#sk-container-id-1 input.sk-hidden--visually {border: 0;clip: rect(1px 1px 1px 1px);clip: rect(1px, 1px, 1px, 1px);height: 1px;margin: -1px;overflow: hidden;padding: 0;position: absolute;width: 1px;}#sk-container-id-1 div.sk-estimator {font-family: monospace;background-color: #f0f8ff;border: 1px dotted black;border-radius: 0.25em;box-sizing: border-box;margin-bottom: 0.5em;}#sk-container-id-1 div.sk-estimator:hover {background-color: #d4ebff;}#sk-container-id-1 div.sk-parallel-item::after {content: \"\";width: 100%;border-bottom: 1px solid gray;flex-grow: 1;}#sk-container-id-1 div.sk-label:hover label.sk-toggleable__label {background-color: #d4ebff;}#sk-container-id-1 div.sk-serial::before {content: \"\";position: absolute;border-left: 1px solid gray;box-sizing: border-box;top: 0;bottom: 0;left: 50%;z-index: 0;}#sk-container-id-1 div.sk-serial {display: flex;flex-direction: column;align-items: center;background-color: white;padding-right: 0.2em;padding-left: 0.2em;position: relative;}#sk-container-id-1 div.sk-item {position: relative;z-index: 1;}#sk-container-id-1 div.sk-parallel {display: flex;align-items: stretch;justify-content: center;background-color: white;position: relative;}#sk-container-id-1 div.sk-item::before, #sk-container-id-1 div.sk-parallel-item::before {content: \"\";position: absolute;border-left: 1px solid gray;box-sizing: border-box;top: 0;bottom: 0;left: 50%;z-index: -1;}#sk-container-id-1 div.sk-parallel-item {display: flex;flex-direction: column;z-index: 1;position: relative;background-color: white;}#sk-container-id-1 div.sk-parallel-item:first-child::after {align-self: flex-end;width: 50%;}#sk-container-id-1 div.sk-parallel-item:last-child::after {align-self: flex-start;width: 50%;}#sk-container-id-1 div.sk-parallel-item:only-child::after {width: 0;}#sk-container-id-1 div.sk-dashed-wrapped {border: 1px dashed gray;margin: 0 0.4em 0.5em 0.4em;box-sizing: border-box;padding-bottom: 0.4em;background-color: white;}#sk-container-id-1 div.sk-label label {font-family: monospace;font-weight: bold;display: inline-block;line-height: 1.2em;}#sk-container-id-1 div.sk-label-container {text-align: center;}#sk-container-id-1 div.sk-container {/* jupyter's `normalize.less` sets `[hidden] { display: none; }` but bootstrap.min.css set `[hidden] { display: none !important; }` so we also need the `!important` here to be able to override the default hidden behavior on the sphinx rendered scikit-learn.org. See: https://github.com/scikit-learn/scikit-learn/issues/21755 */display: inline-block !important;position: relative;}#sk-container-id-1 div.sk-text-repr-fallback {display: none;}</style><div id=\"sk-container-id-1\" class=\"sk-top-container\"><div class=\"sk-text-repr-fallback\"><pre>GridSearchCV(estimator=RandomForestClassifier(random_state=42),\n",
       "             param_grid={&#x27;max_depth&#x27;: [5, 10, 15],\n",
       "                         &#x27;n_estimators&#x27;: [10, 50, 100]},\n",
       "             scoring=&#x27;f1&#x27;)</pre><b>In a Jupyter environment, please rerun this cell to show the HTML representation or trust the notebook. <br />On GitHub, the HTML representation is unable to render, please try loading this page with nbviewer.org.</b></div><div class=\"sk-container\" hidden><div class=\"sk-item sk-dashed-wrapped\"><div class=\"sk-label-container\"><div class=\"sk-label sk-toggleable\"><input class=\"sk-toggleable__control sk-hidden--visually\" id=\"sk-estimator-id-1\" type=\"checkbox\" ><label for=\"sk-estimator-id-1\" class=\"sk-toggleable__label sk-toggleable__label-arrow\">GridSearchCV</label><div class=\"sk-toggleable__content\"><pre>GridSearchCV(estimator=RandomForestClassifier(random_state=42),\n",
       "             param_grid={&#x27;max_depth&#x27;: [5, 10, 15],\n",
       "                         &#x27;n_estimators&#x27;: [10, 50, 100]},\n",
       "             scoring=&#x27;f1&#x27;)</pre></div></div></div><div class=\"sk-parallel\"><div class=\"sk-parallel-item\"><div class=\"sk-item\"><div class=\"sk-label-container\"><div class=\"sk-label sk-toggleable\"><input class=\"sk-toggleable__control sk-hidden--visually\" id=\"sk-estimator-id-2\" type=\"checkbox\" ><label for=\"sk-estimator-id-2\" class=\"sk-toggleable__label sk-toggleable__label-arrow\">estimator: RandomForestClassifier</label><div class=\"sk-toggleable__content\"><pre>RandomForestClassifier(random_state=42)</pre></div></div></div><div class=\"sk-serial\"><div class=\"sk-item\"><div class=\"sk-estimator sk-toggleable\"><input class=\"sk-toggleable__control sk-hidden--visually\" id=\"sk-estimator-id-3\" type=\"checkbox\" ><label for=\"sk-estimator-id-3\" class=\"sk-toggleable__label sk-toggleable__label-arrow\">RandomForestClassifier</label><div class=\"sk-toggleable__content\"><pre>RandomForestClassifier(random_state=42)</pre></div></div></div></div></div></div></div></div></div></div>"
      ],
      "text/plain": [
       "GridSearchCV(estimator=RandomForestClassifier(random_state=42),\n",
       "             param_grid={'max_depth': [5, 10, 15],\n",
       "                         'n_estimators': [10, 50, 100]},\n",
       "             scoring='f1')"
      ]
     },
     "execution_count": 16,
     "metadata": {},
     "output_type": "execute_result"
    }
   ],
   "source": [
    "# There is no need to rescale when using Decision Trees...\n",
    "# Also, accuracy score for such an imbalanced dataset provides no proper insight...\n",
    "\n",
    "from sklearn.model_selection import GridSearchCV, train_test_split\n",
    "from sklearn.ensemble import RandomForestClassifier\n",
    "\n",
    "X = df.drop(columns=['is_edge'])\n",
    "y = df['is_edge']\n",
    "\n",
    "X_train, X_test, y_train, y_test = train_test_split(X, y, test_size=0.2, random_state=RANDOM_STATE)\n",
    "\n",
    "grid_search_cv = GridSearchCV(\n",
    "    RandomForestClassifier(random_state=RANDOM_STATE), {\n",
    "        'n_estimators': [10, 50, 100],\n",
    "        'max_depth': [5, 10, 15]\n",
    "    },\n",
    "    scoring='f1'\n",
    ")\n",
    "\n",
    "grid_search_cv.fit(X_train, y_train)"
   ]
  },
  {
   "cell_type": "code",
   "execution_count": 17,
   "id": "7da26101",
   "metadata": {},
   "outputs": [
    {
     "data": {
      "text/plain": [
       "0.668194819427321"
      ]
     },
     "execution_count": 17,
     "metadata": {},
     "output_type": "execute_result"
    }
   ],
   "source": [
    "grid_search_cv.best_score_"
   ]
  },
  {
   "cell_type": "code",
   "execution_count": 18,
   "id": "19e04e55",
   "metadata": {},
   "outputs": [
    {
     "data": {
      "text/plain": [
       "{'max_depth': 5, 'n_estimators': 100}"
      ]
     },
     "execution_count": 18,
     "metadata": {},
     "output_type": "execute_result"
    }
   ],
   "source": [
    "grid_search_cv.best_params_"
   ]
  },
  {
   "attachments": {},
   "cell_type": "markdown",
   "id": "4c5f4737",
   "metadata": {},
   "source": [
    "### 3(iiiβ)"
   ]
  },
  {
   "cell_type": "code",
   "execution_count": 19,
   "id": "eccd90d0",
   "metadata": {},
   "outputs": [
    {
     "name": "stdout",
     "output_type": "stream",
     "text": [
      "              precision    recall  f1-score   support\n",
      "\n",
      "           0       1.00      1.00      1.00     18327\n",
      "           1       1.00      0.57      0.72        53\n",
      "\n",
      "    accuracy                           1.00     18380\n",
      "   macro avg       1.00      0.78      0.86     18380\n",
      "weighted avg       1.00      1.00      1.00     18380\n",
      "\n"
     ]
    }
   ],
   "source": [
    "preds = grid_search_cv.best_estimator_.predict(X_test)\n",
    "\n",
    "print(classification_report(y_test, preds))"
   ]
  },
  {
   "cell_type": "code",
   "execution_count": 20,
   "id": "1c3eb67e",
   "metadata": {},
   "outputs": [
    {
     "data": {
      "text/plain": [
       "array([0, 0, 0, 0, 0, 0, 0, 0, 0])"
      ]
     },
     "execution_count": 20,
     "metadata": {},
     "output_type": "execute_result"
    }
   ],
   "source": [
    "preds[:K]"
   ]
  },
  {
   "attachments": {},
   "cell_type": "markdown",
   "id": "550ffe34",
   "metadata": {},
   "source": [
    "### 3(iiiγ)"
   ]
  },
  {
   "cell_type": "code",
   "execution_count": 21,
   "id": "9fd1344e",
   "metadata": {},
   "outputs": [
    {
     "data": {
      "text/plain": [
       "0.00023961118738656601"
      ]
     },
     "execution_count": 21,
     "metadata": {},
     "output_type": "execute_result"
    }
   ],
   "source": [
    "grid_search_cv.best_estimator_.predict_proba(X[X.index == ('1', '47')])[0, 1]"
   ]
  },
  {
   "cell_type": "markdown",
   "id": "f866b3dc",
   "metadata": {},
   "source": [
    "## 4"
   ]
  },
  {
   "cell_type": "markdown",
   "id": "f4c43988",
   "metadata": {
    "pycharm": {
     "name": "#%% md\n"
    }
   },
   "source": [
    "<html><font size=4><B>4. Πρόβλεψη συνδέσμων με embedding βασισμένο σε τυχαίους περιπάτους (Random Walks) </B></font><BR><BR>\n",
    "    <li><B>4(i).</B> Εξάγετε τα χαρακτηριστικά (features) του γράφου $G'$, που προέκυψε από την αφαίρεση των ακμών. Για τον σκοπό αυτό χρησιμοποιήστε τον αλγόριθμο <B>Node2vec</B> <a href=\"https://cs.stanford.edu/~jure/pubs/node2vec-kdd16.pdf\">[3]</a>. Ο αλγόριθμος αντιστοιχίζει τους κόμβους του γράφου μέσω τυχαίων περιπάτων (biased 2nd order random walks) σε ένα χώρο μικρού αριθμού διαστάσεων (low dimensional space) διατηρώντας την μεταξύ τους γειτνίαση.\n",
    "        <BR>Για την επιλογή των παραμέτρων: \n",
    "            <li>p - παράμετρος τυχαίων περιπάτων p που καθορίζει την πιθανότητα “1/p” επιστροφής στον κόμβο προέλευσης (source node), </li>\n",
    "                <li>q - παράμετρος τυχαίων περιπάτων q που καθορίζει την πιθανότητα  “1/q” μετακίνησης σε κόμβο μακριά από τον κόμβο προέλευσης (source node), </li>\n",
    "                 <li>dimensions - πλήθος διαστάσεων των Node2Vec embeddings, </li>\n",
    "                     <li>num_walks - αριθμός περιπάτων από κάθε κόμβο, </li>\n",
    "                         <li>walk_length - μήκος τυχαίου περιπάτου, </li>\n",
    "                             <li>window_size - μέγεθος παραθύρου context για τον αλγόριθμο Word2Vec, </li><li>num_iter - αριθμός SGD επαναλήψεων (epochs), </li>\n",
    "            <li>workers - αριθμός workers για τον Word2Vec,</li>\n",
    "            χρησιμοποιήστε τις τιμές:   </html>\n",
    "   \n",
    "                   "
   ]
  },
  {
   "cell_type": "markdown",
   "id": "fdbc5274",
   "metadata": {
    "pycharm": {
     "name": "#%% md\n"
    }
   },
   "source": [
    " |   p   |   q   | dimensions|  num_walks  |walk_length |window_size|        workers            |\n",
    " |-------|-------|-----------|-------------|------------|-----------|---------------------------|\n",
    " |  1.0  |  1.0  |  128      |     10      |    80      |     10    |multiprocessing.cpu_count()|"
   ]
  },
  {
   "attachments": {},
   "cell_type": "markdown",
   "id": "6311b35a",
   "metadata": {},
   "source": [
    "### 4 (i)"
   ]
  },
  {
   "cell_type": "code",
   "execution_count": 22,
   "id": "53b204ac",
   "metadata": {},
   "outputs": [
    {
     "name": "stderr",
     "output_type": "stream",
     "text": [
      "Computing transition probabilities: 100%|██████████| 430/430 [00:00<00:00, 14356.74it/s]\n",
      "Generating walks (CPU: 11): 0it [00:00, ?it/s]1 [00:00<?, ?it/s]]\n",
      "Generating walks (CPU: 12): 0it [00:00, ?it/s]\n",
      "Generating walks (CPU: 13): 0it [00:00, ?it/s]\n",
      "Generating walks (CPU: 15): 0it [00:00, ?it/s]\n",
      "Generating walks (CPU: 14): 0it [00:00, ?it/s]\n",
      "Generating walks (CPU: 16): 0it [00:00, ?it/s]\n",
      "Generating walks (CPU: 1): 100%|██████████| 1/1 [00:03<00:00,  3.15s/it]\n",
      "Generating walks (CPU: 5): 100%|██████████| 1/1 [00:03<00:00,  3.04s/it]\n",
      "Generating walks (CPU: 2): 100%|██████████| 1/1 [00:03<00:00,  3.19s/it]\n",
      "Generating walks (CPU: 3): 100%|██████████| 1/1 [00:03<00:00,  3.17s/it]\n",
      "Generating walks (CPU: 4): 100%|██████████| 1/1 [00:03<00:00,  3.14s/it]\n",
      "Generating walks (CPU: 6): 100%|██████████| 1/1 [00:03<00:00,  3.03s/it]\n",
      "Generating walks (CPU: 7): 100%|██████████| 1/1 [00:03<00:00,  3.01s/it]\n",
      "Generating walks (CPU: 8): 100%|██████████| 1/1 [00:02<00:00,  3.00s/it]\n",
      "Generating walks (CPU: 10): 100%|██████████| 1/1 [00:02<00:00,  2.96s/it]\n",
      "Generating walks (CPU: 9): 100%|██████████| 1/1 [00:02<00:00,  2.93s/it]\n"
     ]
    }
   ],
   "source": [
    "node_2_vec = Node2VecFixed(\n",
    "    graph=G_reduced,\n",
    "    dimensions=128,\n",
    "    walk_length=80,\n",
    "    num_walks=10,\n",
    "    p=1.0,\n",
    "    q=1.0,\n",
    "    workers=cpu_count(),\n",
    ")\n",
    "\n",
    "word_2_vec = node_2_vec.fit(window=10, min_count=1)"
   ]
  },
  {
   "cell_type": "markdown",
   "id": "294f0aab",
   "metadata": {
    "pycharm": {
     "name": "#%% md\n"
    }
   },
   "source": [
    "<html><font>\n",
    "    <li><B>4(ii).</B> Εφαρμόστε τον αλγόριθμο Random Forest Classifier, για να προβλέψετε τις συνδέσεις.</li><BR>\n",
    "    <li><B>4(iii).</B> Υπολογίστε την ακρίβεια ($accuracy$) του μοντέλου. </li><BR></font></html>"
   ]
  },
  {
   "attachments": {},
   "cell_type": "markdown",
   "id": "85d790b7",
   "metadata": {},
   "source": [
    "### 4(i) & 4(ii) & Bonus Question"
   ]
  },
  {
   "cell_type": "code",
   "execution_count": 23,
   "id": "d95cdc70",
   "metadata": {},
   "outputs": [
    {
     "name": "stdout",
     "output_type": "stream",
     "text": [
      "average\n",
      "              precision    recall  f1-score   support\n",
      "\n",
      "           0       1.00      1.00      1.00     73331\n",
      "           1       0.96      0.49      0.65       189\n",
      "\n",
      "    accuracy                           1.00     73520\n",
      "   macro avg       0.98      0.74      0.82     73520\n",
      "weighted avg       1.00      1.00      1.00     73520\n",
      "\n",
      "hadamard\n",
      "              precision    recall  f1-score   support\n",
      "\n",
      "           0       1.00      1.00      1.00     73331\n",
      "           1       0.96      0.47      0.63       189\n",
      "\n",
      "    accuracy                           1.00     73520\n",
      "   macro avg       0.98      0.73      0.81     73520\n",
      "weighted avg       1.00      1.00      1.00     73520\n",
      "\n",
      "l1\n",
      "              precision    recall  f1-score   support\n",
      "\n",
      "           0       1.00      1.00      1.00     73331\n",
      "           1       0.72      0.10      0.17       189\n",
      "\n",
      "    accuracy                           1.00     73520\n",
      "   macro avg       0.86      0.55      0.58     73520\n",
      "weighted avg       1.00      1.00      1.00     73520\n",
      "\n",
      "l2\n",
      "              precision    recall  f1-score   support\n",
      "\n",
      "           0       1.00      1.00      1.00     73331\n",
      "           1       0.76      0.08      0.15       189\n",
      "\n",
      "    accuracy                           1.00     73520\n",
      "   macro avg       0.88      0.54      0.58     73520\n",
      "weighted avg       1.00      1.00      1.00     73520\n",
      "\n"
     ]
    }
   ],
   "source": [
    "def evaluate_rf_n2v(op):\n",
    "    X = [op(word_2_vec.wv[u], word_2_vec.wv[v]) for u, v in df.index]\n",
    "    y = df['is_edge']\n",
    "    X_train, X_test, y_train, y_test = train_test_split(X, y, test_size=0.8, random_state=RANDOM_STATE)\n",
    "\n",
    "    rf = RandomForestClassifier(max_depth=20, n_jobs=-1, random_state=RANDOM_STATE)\n",
    "    rf.fit(X_train, y_train)\n",
    "    preds = rf.predict(X_test)\n",
    "\n",
    "    return classification_report(y_test, preds)\n",
    "\n",
    "\n",
    "def average(x, y):\n",
    "    return (x + y) / 2\n",
    "\n",
    "\n",
    "def hadamard(x, y):\n",
    "    return x * y\n",
    "\n",
    "\n",
    "def l1(x, y):\n",
    "    return np.abs(x - y)\n",
    "\n",
    "\n",
    "def l2(x, y):\n",
    "    return (x - y)**2\n",
    "\n",
    "\n",
    "ops = average, hadamard, l1, l2\n",
    "print(*(f'{op.__name__}\\n{evaluate_rf_n2v(op)}' for op in ops), sep='\\n')"
   ]
  },
  {
   "attachments": {},
   "cell_type": "markdown",
   "id": "b5a0ad6e",
   "metadata": {},
   "source": [
    "**Σχόλιο**\n",
    "\n",
    "Παρατηρούμε πως τα μέτρα απόστασης αποδίδουν χειρότερα αποτελέσματα, που είναι αναμενόμενο μίας και χάνεται η πληροφορία της τοποθεσίας και κρατείται μόνο η απόσταση μεταξύ των διανυσμάτων αναπαράστασης των κόμβων."
   ]
  },
  {
   "cell_type": "markdown",
   "id": "a0c0b3bb",
   "metadata": {
    "pycharm": {
     "name": "#%% md\n"
    }
   },
   "source": [
    "<html><font size=4> <B><U>Ερώτηση bonus (+10/100)</U><B>: </font>Για τους binary operators για learning των edge features με τον αλγόριθμο Node2Vec που αναφέρονται στο <a href=\"https://cs.stanford.edu/~jure/pubs/node2vec-kdd16.pdf\">[3]</a> ((α) Average, (β) Hadamard, (γ) Weighted-L1 και (δ) Weighted-L2) τροποποιήστε τoν κώδικά σας και σημειώστε τις παρατηρήσεις σας ως προς την απόδοση του αλγορίθμου.</font></html>"
   ]
  },
  {
   "attachments": {},
   "cell_type": "markdown",
   "id": "717581b9",
   "metadata": {},
   "source": [
    "**Σχόλιο**\n",
    "Η απάντηση στην ερώτηση bonus βρίσκεται στο προηγούμενο κελί."
   ]
  },
  {
   "cell_type": "markdown",
   "id": "8da3a402",
   "metadata": {
    "pycharm": {
     "name": "#%% md\n"
    }
   },
   "source": [
    "<html><font size=4><B><U>Βιβλιογραφία:</U></B><BR></font>\n",
    "<a href=\"https://dl.acm.org/doi/10.1145/2487788.2488173\">[1]\tJérôme Kunegis. KONECT – The Koblenz Network Collection. In Proc. Int. Conf. on World Wide Web Companion, pages 1343–1350, 2013.</a><BR>\n",
    "<a href=\"https://link.springer.com/chapter/10.1007/978-3-540-76298-0_52\">[2]\tSören Auer, Christian Bizer, Georgi Kobilarov, Jens Lehmann, Richard Cyganiak, and Zachary Ives. DBpedia: A nucleus for a web of open data. In Proc. Int. Semant. Web Conf., pages 722–735, 2008.<BR>\n",
    "<a href=\"https://cs.stanford.edu/~jure/pubs/node2vec-kdd16.pdf\">[3] A. Grover, J. Leskovec, Node2vec: Scalable Feature Learning for Networks. ACM KDD, 2016.</a><BR>\n",
    " <a href=\"https://proceedings.neurips.cc/paper/2013/file/9aa42b31882ec039965f3c4923ce901b-Paper.pdf\">[4] T.Mikolov, I.Sutskever, K.Chen, G.S.Corrado and J.Dean, Distributed representations of words and phrases and their compositionality. In NIPS, 2013.</a><BR></font></html>"
   ]
  }
 ],
 "metadata": {
  "kernelspec": {
   "display_name": "sna",
   "language": "python",
   "name": "python3"
  },
  "language_info": {
   "codemirror_mode": {
    "name": "ipython",
    "version": 3
   },
   "file_extension": ".py",
   "mimetype": "text/x-python",
   "name": "python",
   "nbconvert_exporter": "python",
   "pygments_lexer": "ipython3",
   "version": "3.10.6"
  },
  "vscode": {
   "interpreter": {
    "hash": "f730c7bdb01663df1d3d910042c98e2163f0879065fdf957bd1f4a813b03f728"
   }
  }
 },
 "nbformat": 4,
 "nbformat_minor": 5
}
